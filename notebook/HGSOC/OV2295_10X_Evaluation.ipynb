{
 "cells": [
  {
   "cell_type": "code",
   "execution_count": 6,
   "metadata": {},
   "outputs": [
    {
     "data": {
      "text/plain": [
       "'0.23.1'"
      ]
     },
     "execution_count": 6,
     "metadata": {},
     "output_type": "execute_result"
    }
   ],
   "source": [
    "# Run ExtractPhyloWGSResults.py and Rscripts/ProcessBSCITEResults.R.\n",
    "\n",
    "from sklearn.metrics.cluster import adjusted_rand_score\n",
    "from sklearn.metrics.cluster import adjusted_mutual_info_score\n",
    "from sklearn.metrics.cluster import v_measure_score\n",
    "\n",
    "import pandas as pd\n",
    "import numpy as np\n",
    "import os\n",
    "\n",
    "data_path = \"../../_output/HGSOC_10X/\"\n",
    "\n",
    "import sklearn\n",
    "sklearn.__version__"
   ]
  },
  {
   "cell_type": "code",
   "execution_count": 4,
   "metadata": {},
   "outputs": [],
   "source": [
    "gt = pd.read_csv(\"../../data/HGSOC_10X/gt.txt\", header=0, sep=\" \")\n",
    "valid_clone_names = [\"A_B_C_D_E_F_G_H_I\", \"A_B_C_D\", \"A_B\", \"C_D\", \"A\", \"B\", \"C\", \"D\", \"E_F_G_H_I\", \"E_F\", \"E\", \"F\"]\n",
    "\n",
    "# Evaluate the ancestral metric.\n",
    "# Get the true ancestral metric: not many SNVs, just do a plain double for loops. \n",
    "snv_count = gt.shape[0]\n",
    "A = np.zeros(shape = (snv_count, snv_count))\n",
    "for i in range(snv_count):\n",
    "    clone_i = set(gt.iloc[i][\"CloneName\"].split(\"_\"))\n",
    "    for j in range(snv_count):\n",
    "        clone_j = set(gt.iloc[j][\"CloneName\"].split(\"_\"))\n",
    "        if clone_i != clone_j and clone_j.issubset(clone_i):\n",
    "            A[i,j] = 1\n",
    "\n",
    "idx = np.array(np.where(gt[\"CloneName\"].isin(valid_clone_names)))[0]\n",
    "valid_idx = np.ix_(idx, idx)\n",
    "A0 = A[valid_idx]\n"
   ]
  },
  {
   "cell_type": "code",
   "execution_count": 22,
   "metadata": {},
   "outputs": [
    {
     "name": "stdout",
     "output_type": "stream",
     "text": [
      "[0.35924743 0.20642445 0.26550135 0.23321762]\n",
      "[0.04175973 0.03233021 0.03756476 0.01285182]\n"
     ]
    }
   ],
   "source": [
    "# Our method.\n",
    "chain_count = 20\n",
    "metrics = np.zeros([chain_count, 4])\n",
    "for chain in range(chain_count):\n",
    "    chain_path = \"../../data/HGSOC_10X/phylex/chain\" + str(chain)\n",
    "    predicted = pd.read_csv(chain_path + \"/joint/tree0/cluster_labels.tsv\", header=None, sep=\"\\t\", names=[\"ID\", \"CloneName\"])\n",
    "    tbl_join = predicted.join(gt, lsuffix='_caller', rsuffix='_other')\n",
    "    ret = tbl_join[tbl_join[\"CloneName_other\"].isnull() == False]\n",
    "    ret_valid = tbl_join[tbl_join[\"CloneName_other\"].isin(valid_clone_names)]\n",
    "\n",
    "    ancestral_matrix = pd.read_csv(chain_path + \"/joint/tree0/ancestral_matrix.csv\", header=None)\n",
    "    ancestral_matrix = np.asarray(ancestral_matrix)\n",
    "    ancestral_matrix_0 = ancestral_matrix[valid_idx]\n",
    "    metrics[chain,0] = v_measure_score(ret_valid[\"CloneName_other\"], ret_valid[\"CloneName_caller\"])\n",
    "    metrics[chain,1] = adjusted_rand_score(ret_valid[\"CloneName_other\"], ret_valid[\"CloneName_caller\"])\n",
    "    metrics[chain,2] = adjusted_mutual_info_score(ret_valid[\"CloneName_other\"], ret_valid[\"CloneName_caller\"])\n",
    "    metrics[chain,3] = np.mean(np.abs(ancestral_matrix_0 - A0))\n",
    "    \n",
    "# V-measure, adjusted rand score, adjusted mutual info, ancestral metric.\n",
    "print(metrics.mean(0))\n",
    "print(metrics.std(0))\n"
   ]
  },
  {
   "cell_type": "code",
   "execution_count": 23,
   "metadata": {},
   "outputs": [],
   "source": [
    "results_phylex = pd.DataFrame(metrics, columns = [\"Vmeasure\", \"AdjRandScore\", \"AdjMutualInfo\", \"AncReconErr\"])\n",
    "results_phylex[\"Method\"] = \"PhylEx\"\n"
   ]
  },
  {
   "cell_type": "code",
   "execution_count": 24,
   "metadata": {},
   "outputs": [
    {
     "name": "stdout",
     "output_type": "stream",
     "text": [
      "[0.2031598  0.15447029 0.1564563  0.23805793]\n",
      "[0.04313064 0.04902003 0.04950668 0.02520797]\n"
     ]
    }
   ],
   "source": [
    "# TSSB\n",
    "# Our method.\n",
    "chain_count = 20\n",
    "metrics_tssb = np.zeros([chain_count, 4])\n",
    "for chain in range(chain_count):\n",
    "    chain_path = \"../../data/HGSOC_10X/tssb/chain\" + str(chain)\n",
    "    predicted = pd.read_csv(chain_path + \"/joint/tree0/cluster_labels.tsv\", header=None, sep=\"\\t\", names=[\"ID\", \"CloneName\"])\n",
    "    tbl_join = predicted.join(gt, lsuffix='_caller', rsuffix='_other')\n",
    "    ret = tbl_join[tbl_join[\"CloneName_other\"].isnull() == False]\n",
    "    ret_valid = tbl_join[tbl_join[\"CloneName_other\"].isin(valid_clone_names)]\n",
    "\n",
    "    ancestral_matrix = pd.read_csv(chain_path + \"/joint/tree0/ancestral_matrix.csv\", header=None)\n",
    "    ancestral_matrix = np.asarray(ancestral_matrix)\n",
    "    ancestral_matrix_0 = ancestral_matrix[valid_idx]\n",
    "    metrics_tssb[chain,0] = v_measure_score(ret_valid[\"CloneName_other\"], ret_valid[\"CloneName_caller\"])\n",
    "    metrics_tssb[chain,1] = adjusted_rand_score(ret_valid[\"CloneName_other\"], ret_valid[\"CloneName_caller\"])\n",
    "    metrics_tssb[chain,2] = adjusted_mutual_info_score(ret_valid[\"CloneName_other\"], ret_valid[\"CloneName_caller\"])\n",
    "    metrics_tssb[chain,3] = np.mean(np.abs(ancestral_matrix_0 - A0))\n",
    "    \n",
    "# V-measure, adjusted rand score, adjusted mutual info, ancestral metric.\n",
    "print(metrics_tssb.mean(0))\n",
    "print(metrics_tssb.std(0))\n"
   ]
  },
  {
   "cell_type": "code",
   "execution_count": 25,
   "metadata": {},
   "outputs": [],
   "source": [
    "results_tssb = pd.DataFrame(metrics_tssb, columns = [\"Vmeasure\", \"AdjRandScore\", \"AdjMutualInfo\", \"AncReconErr\"])\n",
    "results_tssb[\"Method\"] = \"TSSB\"\n"
   ]
  },
  {
   "cell_type": "code",
   "execution_count": 26,
   "metadata": {},
   "outputs": [],
   "source": [
    "results = results_phylex.append(results_tssb)"
   ]
  },
  {
   "cell_type": "code",
   "execution_count": 28,
   "metadata": {},
   "outputs": [],
   "source": [
    "results.to_csv(\"../../data/NatComm/Table3.csv\", index=False)"
   ]
  },
  {
   "cell_type": "code",
   "execution_count": null,
   "metadata": {},
   "outputs": [],
   "source": []
  }
 ],
 "metadata": {
  "kernelspec": {
   "display_name": "Python 3",
   "language": "python",
   "name": "python3"
  },
  "language_info": {
   "codemirror_mode": {
    "name": "ipython",
    "version": 3
   },
   "file_extension": ".py",
   "mimetype": "text/x-python",
   "name": "python",
   "nbconvert_exporter": "python",
   "pygments_lexer": "ipython3",
   "version": "3.8.3"
  }
 },
 "nbformat": 4,
 "nbformat_minor": 4
}
