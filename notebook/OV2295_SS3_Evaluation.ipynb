{
 "cells": [
  {
   "cell_type": "code",
   "execution_count": 4,
   "metadata": {},
   "outputs": [
    {
     "data": {
      "text/plain": [
       "'0.23.1'"
      ]
     },
     "execution_count": 4,
     "metadata": {},
     "output_type": "execute_result"
    }
   ],
   "source": [
    "# Run ExtractPhyloWGSResults.py and Rscripts/ProcessBSCITEResults.R.\n",
    "\n",
    "from sklearn.metrics.cluster import adjusted_rand_score\n",
    "from sklearn.metrics.cluster import adjusted_mutual_info_score\n",
    "from sklearn.metrics.cluster import v_measure_score\n",
    "\n",
    "import pandas as pd\n",
    "import numpy as np\n",
    "import os\n",
    "\n",
    "data_path = \"/Users/seonghwanjun/data/cell-line/bulk/OV2295/genotype/\"\n",
    "\n",
    "import sklearn\n",
    "sklearn.__version__"
   ]
  },
  {
   "cell_type": "code",
   "execution_count": 2,
   "metadata": {},
   "outputs": [],
   "source": [
    "gt = pd.read_csv(\"/Users/seonghwanjun/data/cell-line/bulk/OV2295/genotype/gt.txt\", header=0, sep=\" \")\n",
    "valid_clone_names = [\"A_B_C_D_E_F_G_H_I\", \"A_B_C_D\", \"A_B\", \"C_D\", \"A\", \"B\", \"C\", \"D\", \"E_F_G_H_I\", \"E_F\", \"E\", \"F\"]\n",
    "\n",
    "# Evaluate the ancestral metric.\n",
    "# Get the true ancestral metric: not many SNVs, just do a plain double for loops. \n",
    "snv_count = gt.shape[0]\n",
    "A = np.zeros(shape = (snv_count, snv_count))\n",
    "for i in range(snv_count):\n",
    "    clone_i = set(gt.iloc[i][\"CloneName\"].split(\"_\"))\n",
    "    for j in range(snv_count):\n",
    "        clone_j = set(gt.iloc[j][\"CloneName\"].split(\"_\"))\n",
    "        if clone_i != clone_j and clone_j.issubset(clone_i):\n",
    "            A[i,j] = 1\n",
    "\n",
    "idx = np.array(np.where(gt[\"CloneName\"].isin(valid_clone_names)))[0]\n",
    "valid_idx = np.ix_(idx, idx)\n",
    "A0 = A[valid_idx]\n"
   ]
  },
  {
   "cell_type": "code",
   "execution_count": 6,
   "metadata": {},
   "outputs": [
    {
     "name": "stdout",
     "output_type": "stream",
     "text": [
      "[0.86594364 0.88898542 0.84137349 0.02906427]\n",
      "[0.00180256 0.0002348  0.00149649 0.00212665]\n"
     ]
    }
   ],
   "source": [
    "# Our method.\n",
    "rep_count = 20\n",
    "metrics = np.zeros([rep_count, 4])\n",
    "for rep in range(rep_count):\n",
    "    rep_path = \"/Users/seonghwanjun/data/cell-line/bulk/OV2295/genotype/results/rep\" + str(rep)\n",
    "    predicted = pd.read_csv(rep_path + \"/joint/tree0/cluster_labels.tsv\", header=None, sep=\"\\t\", names=[\"ID\", \"CloneName\"])\n",
    "    tbl_join = predicted.join(gt, lsuffix='_caller', rsuffix='_other')\n",
    "    ret = tbl_join[tbl_join[\"CloneName_other\"].isnull() == False]\n",
    "    ret_valid = tbl_join[tbl_join[\"CloneName_other\"].isin(valid_clone_names)]\n",
    "\n",
    "    ancestral_matrix = pd.read_csv(rep_path + \"/joint/tree0/ancestral_matrix.csv\", header=None)\n",
    "    ancestral_matrix = np.asarray(ancestral_matrix)\n",
    "    ancestral_matrix_0 = ancestral_matrix[valid_idx]\n",
    "    metrics[rep,0] = v_measure_score(ret_valid[\"CloneName_other\"], ret_valid[\"CloneName_caller\"])\n",
    "    metrics[rep,1] = adjusted_rand_score(ret_valid[\"CloneName_other\"], ret_valid[\"CloneName_caller\"])\n",
    "    metrics[rep,2] = adjusted_mutual_info_score(ret_valid[\"CloneName_other\"], ret_valid[\"CloneName_caller\"])\n",
    "    metrics[rep,3] = np.mean(np.abs(ancestral_matrix_0 - A0))\n",
    "    \n",
    "# V-measure, adjusted rand score, adjusted mutual info, ancestral metric.\n",
    "print(metrics.mean(0))\n",
    "print(metrics.std(0))"
   ]
  },
  {
   "cell_type": "code",
   "execution_count": 5,
   "metadata": {},
   "outputs": [
    {
     "name": "stdout",
     "output_type": "stream",
     "text": [
      "[0.23721991 0.28376081 0.17966876 0.20370983]\n",
      "[0.06754353 0.0773308  0.07521317 0.03178864]\n"
     ]
    }
   ],
   "source": [
    "# PhyloSub.\n",
    "metrics = np.zeros([rep_count, 4])\n",
    "for rep in range(rep_count):\n",
    "    rep_path = \"/Users/seonghwanjun/data/cell-line/bulk/OV2295/genotype/bulk_only/rep\" + str(rep)\n",
    "    predicted = pd.read_csv(rep_path + \"/joint/tree0/cluster_labels.tsv\", header=None, sep=\"\\t\", names=[\"ID\", \"CloneName\"])\n",
    "    tbl_join = predicted.join(gt, lsuffix='_caller', rsuffix='_other')\n",
    "    ret = tbl_join[tbl_join[\"CloneName_other\"].isnull() == False]\n",
    "    ret_valid = tbl_join[tbl_join[\"CloneName_other\"].isin(valid_clone_names)]\n",
    "\n",
    "    ancestral_matrix = pd.read_csv(rep_path + \"/joint/tree0/ancestral_matrix.csv\", header=None)\n",
    "    ancestral_matrix = np.asarray(ancestral_matrix)\n",
    "    ancestral_matrix_0 = ancestral_matrix[valid_idx]\n",
    "    metrics[rep,0] = v_measure_score(ret_valid[\"CloneName_other\"], ret_valid[\"CloneName_caller\"])\n",
    "    metrics[rep,1] = adjusted_rand_score(ret_valid[\"CloneName_other\"], ret_valid[\"CloneName_caller\"])\n",
    "    metrics[rep,2] = adjusted_mutual_info_score(ret_valid[\"CloneName_other\"], ret_valid[\"CloneName_caller\"])\n",
    "    metrics[rep,3] = np.mean(np.abs(ancestral_matrix_0 - A0))\n",
    "    \n",
    "# V-measure, adjusted rand score, adjusted mutual info, ancestral metric.\n",
    "print(metrics.mean(0))\n",
    "print(metrics.std(0))"
   ]
  },
  {
   "cell_type": "code",
   "execution_count": 31,
   "metadata": {},
   "outputs": [
    {
     "name": "stdout",
     "output_type": "stream",
     "text": [
      "0.4829870174461928\n",
      "0.04580008626266983\n",
      "0.0744216195098232\n"
     ]
    }
   ],
   "source": [
    "# ddClone\n",
    "pred_path = os.path.join(data_path, \"ddClone\")\n",
    "predicted = pd.read_table(os.path.join(pred_path, \"results.txt\"), sep=\" \")\n",
    "predicted.columns=[\"ID\", \"phi\", \"CloneName\"]\n",
    "\n",
    "tbl_join = predicted.join(gt, lsuffix='_caller', rsuffix='_other')\n",
    "ret = tbl_join[tbl_join[\"CloneName_other\"].isnull() == False]\n",
    "ret_valid = tbl_join[tbl_join[\"CloneName_other\"].isin(valid_clone_names)]\n",
    "\n",
    "print(v_measure_score(ret_valid[\"CloneName_other\"], ret_valid[\"CloneName_caller\"]))\n",
    "print(adjusted_rand_score(ret_valid[\"CloneName_other\"], ret_valid[\"CloneName_caller\"]))\n",
    "print(adjusted_mutual_info_score(ret_valid[\"CloneName_other\"], ret_valid[\"CloneName_caller\"]))\n"
   ]
  },
  {
   "cell_type": "code",
   "execution_count": 33,
   "metadata": {},
   "outputs": [
    {
     "name": "stdout",
     "output_type": "stream",
     "text": [
      "0.4301579869830684\n",
      "0.08168476438575224\n",
      "0.20509209020698457\n",
      "0.2556710775047259\n"
     ]
    }
   ],
   "source": [
    "# B-SCITE:\n",
    "pred_path = os.path.join(data_path, \"B-SCITE\")\n",
    "clustering_prediction_file = os.path.join(pred_path, \"results.txt\")\n",
    "predicted = pd.read_table(clustering_prediction_file, sep=\" \")\n",
    "\n",
    "tbl_join = predicted.join(gt, lsuffix='_caller', rsuffix='_other')\n",
    "ret = tbl_join[tbl_join[\"CloneName_other\"].isnull() == False]\n",
    "ret_valid = tbl_join[tbl_join[\"CloneName_other\"].isin(valid_clone_names)]\n",
    "\n",
    "# Read the ancestral matrix line-by-line.\n",
    "with open(os.path.join(pred_path, \"bscite.matrices\"), \"r\") as f:\n",
    "    line = f.readline()\n",
    "    mutation_count = int(line.split()[1])\n",
    "    f.readline()\n",
    "    A = []\n",
    "    for _ in range(mutation_count):\n",
    "        line = f.readline()\n",
    "        A.append(line.split())\n",
    "\n",
    "A = np.asarray(A, dtype=int)\n",
    "A = A[valid_idx]\n",
    "\n",
    "print(v_measure_score(ret_valid[\"CloneName_other\"], ret_valid[\"CloneName_caller\"]))\n",
    "print(adjusted_rand_score(ret_valid[\"CloneName_other\"], ret_valid[\"CloneName_caller\"]))\n",
    "print(adjusted_mutual_info_score(ret_valid[\"CloneName_other\"], ret_valid[\"CloneName_caller\"]))\n",
    "print(np.mean(np.abs(A - A0)))\n"
   ]
  },
  {
   "cell_type": "code",
   "execution_count": 35,
   "metadata": {},
   "outputs": [
    {
     "name": "stdout",
     "output_type": "stream",
     "text": [
      "0.4939098826345035\n",
      "0.3857127534055561\n",
      "0.32674744749201423\n",
      "0.1781663516068053\n"
     ]
    }
   ],
   "source": [
    "# Compute the metrics on Canopy.\n",
    "clustering_file = os.path.join(data_path, \"canopy\", \"predicted.csv\")\n",
    "ancestral_matrix_file = os.path.join(data_path, \"canopy\", \"ancestral_matrix.csv\")\n",
    "\n",
    "predicted = pd.read_csv(clustering_file)\n",
    "predicted.columns=[\"ID\", \"CloneName\"]\n",
    "\n",
    "tbl_join = predicted.join(gt, lsuffix='_caller', rsuffix='_other')\n",
    "ret = tbl_join[tbl_join[\"CloneName_other\"].isnull() == False]\n",
    "ret_valid = tbl_join[tbl_join[\"CloneName_other\"].isin(valid_clone_names)]\n",
    "\n",
    "ancestral_matrix = np.asarray(pd.read_table(ancestral_matrix_file, header=None, sep=\" \"))\n",
    "ancestral_matrix = ancestral_matrix[valid_idx]\n",
    "\n",
    "print(v_measure_score(ret_valid[\"CloneName_other\"], ret_valid[\"CloneName_caller\"]))\n",
    "print(adjusted_rand_score(ret_valid[\"CloneName_other\"], ret_valid[\"CloneName_caller\"]))\n",
    "print(adjusted_mutual_info_score(ret_valid[\"CloneName_other\"], ret_valid[\"CloneName_caller\"]))\n",
    "print(np.mean(np.abs(ancestral_matrix - A0)))\n"
   ]
  },
  {
   "cell_type": "code",
   "execution_count": 36,
   "metadata": {},
   "outputs": [
    {
     "name": "stdout",
     "output_type": "stream",
     "text": [
      "2.60577903472376e-16\n",
      "0.0\n",
      "2.6057790347237605e-16\n",
      "0.2684310018903592\n"
     ]
    }
   ],
   "source": [
    "# PhyloWGS:\n",
    "clustering_file = os.path.join(data_path, \"phylowgs\", \"clustering.txt\")\n",
    "ancestral_matrix_file = os.path.join(data_path, \"phylowgs\", \"ancestral_matrix.txt\")\n",
    "\n",
    "predicted = pd.read_table(clustering_file, header=None, names=[\"ID\", \"CloneName\"], sep=\" \")\n",
    "ancestral_matrix = np.asarray(pd.read_table(ancestral_matrix_file, header=None, sep=\" \"))\n",
    "\n",
    "tbl_join = predicted.join(gt, lsuffix='_caller', rsuffix='_other')\n",
    "ret = tbl_join[tbl_join[\"CloneName_other\"].isnull() == False]\n",
    "ret_valid = tbl_join[tbl_join[\"CloneName_other\"].isin(valid_clone_names)]\n",
    "\n",
    "print(v_measure_score(ret_valid[\"CloneName_other\"], ret_valid[\"CloneName_caller\"]))\n",
    "print(adjusted_rand_score(ret_valid[\"CloneName_other\"], ret_valid[\"CloneName_caller\"]))\n",
    "print(adjusted_mutual_info_score(ret_valid[\"CloneName_other\"], ret_valid[\"CloneName_caller\"]))\n",
    "print(np.mean(np.abs(A0 - ancestral_matrix[valid_idx])))\n"
   ]
  }
 ],
 "metadata": {
  "kernelspec": {
   "display_name": "Python 3",
   "language": "python",
   "name": "python3"
  },
  "language_info": {
   "codemirror_mode": {
    "name": "ipython",
    "version": 3
   },
   "file_extension": ".py",
   "mimetype": "text/x-python",
   "name": "python",
   "nbconvert_exporter": "python",
   "pygments_lexer": "ipython3",
   "version": "3.8.3"
  }
 },
 "nbformat": 4,
 "nbformat_minor": 4
}
