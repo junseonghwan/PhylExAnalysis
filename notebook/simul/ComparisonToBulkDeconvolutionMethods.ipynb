{
 "cells": [
  {
   "cell_type": "code",
   "execution_count": 1,
   "metadata": {},
   "outputs": [],
   "source": [
    "from sklearn.metrics.cluster import adjusted_rand_score\n",
    "from sklearn.metrics.cluster import adjusted_mutual_info_score\n",
    "from sklearn.metrics.cluster import v_measure_score"
   ]
  },
  {
   "cell_type": "code",
   "execution_count": 2,
   "metadata": {},
   "outputs": [],
   "source": [
    "import pandas as pd\n",
    "import numpy as np\n",
    "import os"
   ]
  },
  {
   "cell_type": "code",
   "execution_count": 3,
   "metadata": {
    "scrolled": true
   },
   "outputs": [],
   "source": [
    "def ProcessCase(data_path, case_no, output_path = None, rep_count = 20, chain_count = 4):\n",
    "    rand = []\n",
    "    mutual_info = []\n",
    "    vmeasure = []\n",
    "    ancestral_metric = []\n",
    "    for rep in range(rep_count):\n",
    "        rep_path = os.path.join(data_path, \"rep\" + str(rep))\n",
    "        case_path = os.path.join(rep_path, \"case\" + str(case_no))\n",
    "        truth0 = pd.read_csv(os.path.join(case_path, \"cluster_labels.txt\"), header=None, names=[\"ID\", \"Cluster\"])\n",
    "        ancestral_matrix_truth = np.asarray(pd.read_csv(os.path.join(case_path, \"ancestral_matrix.csv\"), header=None))\n",
    "        \n",
    "        # Check which chain achieved the highest likelihood.\n",
    "        log_likelihoods = []\n",
    "        for chain in range(chain_count):\n",
    "            chain_path = os.path.join(case_path, \"genotype\", \"chain\" + str(chain))\n",
    "            log_likelihood = pd.read_table(os.path.join(chain_path, \"joint\", \"tree0\", \"log_lik.txt\"), header=None, names=[\"LogLik\"])\n",
    "            log_likelihoods.append(log_likelihood[\"LogLik\"])\n",
    "\n",
    "        best_chain = np.argmax(log_likelihoods)\n",
    "        pred_path = os.path.join(case_path, \"genotype\", \"chain\" + str(best_chain), \"joint\", \"tree0\")\n",
    "        predicted = pd.read_table(os.path.join(pred_path, \"cluster_labels.tsv\"), header=None, names=[\"ID\", \"Cluster\"])\n",
    "        ancestral_matrix = np.asarray(pd.read_csv(os.path.join(pred_path, \"ancestral_matrix.csv\"), header=None))\n",
    "\n",
    "        rand.append(adjusted_rand_score(truth0[\"Cluster\"], predicted[\"Cluster\"]))\n",
    "        mutual_info.append(adjusted_mutual_info_score(truth0[\"Cluster\"], predicted[\"Cluster\"]))\n",
    "        vmeasure.append(v_measure_score(truth0[\"Cluster\"], predicted[\"Cluster\"]))\n",
    "        ancestral_metric.append(np.mean(np.abs(ancestral_matrix_truth - ancestral_matrix)))\n",
    "        \n",
    "    df = pd.DataFrame(list(zip(rand, mutual_info, vmeasure, ancestral_metric)), columns=[\"AdjRandIndex\", \"AdjMutualInformation\", \"VMeasure\", \"AncestralMetric\"])\n",
    "    if output_path is not None:\n",
    "        if not os.path.exists(output_path):\n",
    "            os.makedirs(output_path)\n",
    "        output_file = os.path.join(output_path, \"case\" + str(case_no) + \".csv\")\n",
    "        df.to_csv(output_file, index=False)\n",
    "    return(df)\n"
   ]
  },
  {
   "cell_type": "code",
   "execution_count": 5,
   "metadata": {},
   "outputs": [],
   "source": [
    "# PSM: posterior similarity matrix.\n",
    "def ProcessCasePSM(data_path, case_no, output_path = None, rep_count = 20, chain_count = 4):\n",
    "    rand = []\n",
    "    mutual_info = []\n",
    "    vmeasure = []\n",
    "    for rep in range(rep_count):\n",
    "        rep_path = os.path.join(data_path, \"rep\" + str(rep))\n",
    "        case_path = os.path.join(rep_path, \"case\" + str(case_no))\n",
    "        truth0 = pd.read_csv(os.path.join(case_path, \"cluster_labels.txt\"), header=None, names=[\"ID\", \"Cluster\"])\n",
    "        \n",
    "        # Check which chain achieved the highest likelihood.\n",
    "        log_likelihoods = []\n",
    "        for chain in range(chain_count):\n",
    "            chain_path = os.path.join(case_path, \"genotype\", \"chain\" + str(chain))\n",
    "            log_likelihood = pd.read_table(os.path.join(chain_path, \"joint\", \"tree0\", \"log_lik.txt\"), header=None, names=[\"LogLik\"])\n",
    "            log_likelihoods.append(log_likelihood[\"LogLik\"])\n",
    "\n",
    "        best_chain = np.argmax(log_likelihoods)\n",
    "        pred_path = os.path.join(case_path, \"genotype\", \"chain\" + str(best_chain))\n",
    "        predicted = pd.read_table(os.path.join(pred_path, \"psm_SNV_assignment.txt\"), header=None, names=[\"ID\", \"Cluster\"], sep=\"\\t\")\n",
    "\n",
    "        rand.append(adjusted_rand_score(truth0[\"Cluster\"], predicted[\"Cluster\"]))\n",
    "        mutual_info.append(adjusted_mutual_info_score(truth0[\"Cluster\"], predicted[\"Cluster\"]))\n",
    "        vmeasure.append(v_measure_score(truth0[\"Cluster\"], predicted[\"Cluster\"]))\n",
    "        \n",
    "    df = pd.DataFrame(list(zip(rand, mutual_info, vmeasure)), columns=[\"AdjRandIndex\", \"AdjMutualInformation\", \"VMeasure\"])\n",
    "    if output_path is not None:\n",
    "        if not os.path.exists(output_path):\n",
    "            os.makedirs(output_path)\n",
    "        output_file = os.path.join(output_path, \"case\" + str(case_no) + \"_psm.csv\")\n",
    "        df.to_csv(output_file, index=False)\n",
    "    return(df)\n"
   ]
  },
  {
   "cell_type": "code",
   "execution_count": 6,
   "metadata": {},
   "outputs": [],
   "source": [
    "# Process results from our method.\n",
    "output_path = \"../../_output/simul/binary/snvs/\"\n",
    "data_path = \"../..//data/simulation/binary/\"\n",
    "df0 = ProcessCase(data_path, 0, output_path)\n",
    "df1 = ProcessCase(data_path, 1, output_path)\n",
    "df2 = ProcessCase(data_path, 2, output_path)\n",
    "df3 = ProcessCase(data_path, 3, output_path)\n",
    "\n",
    "df0 = ProcessCasePSM(data_path, 0, output_path)\n",
    "df1 = ProcessCasePSM(data_path, 1, output_path)\n",
    "df2 = ProcessCasePSM(data_path, 2, output_path)\n",
    "df3 = ProcessCasePSM(data_path, 3, output_path)\n"
   ]
  },
  {
   "cell_type": "code",
   "execution_count": null,
   "metadata": {},
   "outputs": [],
   "source": []
  },
  {
   "cell_type": "code",
   "execution_count": 5,
   "metadata": {},
   "outputs": [],
   "source": [
    "# Process results from our method.\n",
    "output_path = \"../../_output/simul/binary_cn/snvs/\"\n",
    "data_path = \"../..//data/simulation/binary_cn/\"\n",
    "df0 = ProcessCase(data_path, 0, output_path)\n",
    "df1 = ProcessCase(data_path, 1, output_path)\n",
    "df2 = ProcessCase(data_path, 2, output_path)\n",
    "df3 = ProcessCase(data_path, 3, output_path)\n"
   ]
  },
  {
   "cell_type": "code",
   "execution_count": 6,
   "metadata": {},
   "outputs": [],
   "source": [
    "# Process results from our method.\n",
    "output_path = \"../../_output/simul/quadternary_cn/snvs/\"\n",
    "data_path = \"../../data/simulation/quadternary_cn/\"\n",
    "df0 = ProcessCase(data_path, 0, output_path)\n",
    "df1 = ProcessCase(data_path, 1, output_path)\n",
    "df2 = ProcessCase(data_path, 2, output_path)\n",
    "df3 = ProcessCase(data_path, 3, output_path)\n"
   ]
  },
  {
   "cell_type": "code",
   "execution_count": 7,
   "metadata": {},
   "outputs": [],
   "source": [
    "# Process results from our method.\n",
    "output_path = \"../../_output/simul/quadternary_multiregion/snvs/\"\n",
    "data_path = \"../../data/simulation/quadternary_multiregion/\"\n",
    "df0 = ProcessCase(data_path, 0, output_path)\n",
    "df1 = ProcessCase(data_path, 1, output_path)\n",
    "df2 = ProcessCase(data_path, 2, output_path)\n",
    "df3 = ProcessCase(data_path, 3, output_path)\n"
   ]
  },
  {
   "cell_type": "code",
   "execution_count": 8,
   "metadata": {},
   "outputs": [],
   "source": [
    "# Process results from our method.\n",
    "output_path = \"../../_output/simul/quadternary_cn_multiregion/snvs/\"\n",
    "data_path = \"../../data/simulation/quadternary_cn_multiregion/\"\n",
    "df0 = ProcessCase(data_path, 0, output_path)\n",
    "df1 = ProcessCase(data_path, 1, output_path)\n",
    "df2 = ProcessCase(data_path, 2, output_path)\n",
    "df3 = ProcessCase(data_path, 3, output_path)\n"
   ]
  },
  {
   "cell_type": "code",
   "execution_count": 9,
   "metadata": {},
   "outputs": [],
   "source": [
    "# Compute the metrics on PhyloWGS.\n",
    "def ProcessPhyloWGSOutput(data_path, case_no, output_path = None, rep_count = 20):\n",
    "    rand = []\n",
    "    mutual_info = []\n",
    "    vmeasure = []\n",
    "    ancestral_metric = []\n",
    "    for rep in range(rep_count):\n",
    "        rep_path = os.path.join(data_path, \"rep\" + str(rep))\n",
    "        case_path = os.path.join(rep_path, \"case\" + str(case_no))\n",
    "        clustering_file = os.path.join(case_path, \"phylowgs\", \"clustering.txt\")\n",
    "        ancestral_matrix_file = os.path.join(case_path, \"phylowgs\", \"ancestral_matrix.txt\")\n",
    "        if os.path.exists(clustering_file) and os.path.exists(ancestral_matrix_file):\n",
    "            truth0 = pd.read_csv(os.path.join(case_path, \"cluster_labels.txt\"), header=None, names=[\"ID\", \"Cluster\"])\n",
    "            ancestral_matrix_truth = np.asarray(pd.read_csv(os.path.join(case_path, \"ancestral_matrix.csv\"), header=None))\n",
    "\n",
    "            predicted = pd.read_table(clustering_file, header=None, names=[\"ID\", \"Cluster\"], sep=\" \")\n",
    "            ancestral_matrix = np.asarray(pd.read_table(ancestral_matrix_file, header=None, sep=\" \"))\n",
    "\n",
    "            rand.append(adjusted_rand_score(truth0[\"Cluster\"], predicted[\"Cluster\"]))\n",
    "            mutual_info.append(adjusted_mutual_info_score(truth0[\"Cluster\"], predicted[\"Cluster\"]))\n",
    "            vmeasure.append(v_measure_score(truth0[\"Cluster\"], predicted[\"Cluster\"]))\n",
    "            ancestral_metric.append(np.mean(np.abs(ancestral_matrix_truth - ancestral_matrix)))\n",
    "\n",
    "    df = pd.DataFrame(list(zip(rand, mutual_info, vmeasure, ancestral_metric)), columns=[\"AdjRandIndex\", \"AdjMutualInformation\", \"VMeasure\", \"AncestralMetric\"])\n",
    "    if output_path is not None:\n",
    "        if not os.path.exists(output_path):\n",
    "            os.makedirs(output_path)\n",
    "        output_file = os.path.join(output_path, \"phylowgs.csv\")\n",
    "        df.to_csv(output_file, index=False)\n",
    "    return df\n"
   ]
  },
  {
   "cell_type": "markdown",
   "metadata": {},
   "source": [
    "### NOTE: Run extract PhyloWGS results script first."
   ]
  },
  {
   "cell_type": "code",
   "execution_count": 10,
   "metadata": {},
   "outputs": [],
   "source": [
    "output_path = \"../../_output/simul/binary/snvs/\"\n",
    "data_path = \"../../data/simulation/binary/\"\n",
    "df = ProcessPhyloWGSOutput(data_path, 0, output_path)"
   ]
  },
  {
   "cell_type": "code",
   "execution_count": 11,
   "metadata": {},
   "outputs": [],
   "source": [
    "output_path = \"../../_output/simul/quadternary_multiregion/snvs/\"\n",
    "data_path = \"../../data/simulation/quadternary_multiregion/\"\n",
    "df = ProcessPhyloWGSOutput(data_path, 0, output_path)"
   ]
  },
  {
   "cell_type": "code",
   "execution_count": 12,
   "metadata": {},
   "outputs": [],
   "source": [
    "# Compute the metrics on PhyloWGS.\n",
    "def ProcessCanopyOutput(data_path, case_no, output_path = None, rep_count = 20):\n",
    "    rand = []\n",
    "    mutual_info = []\n",
    "    vmeasure = []\n",
    "    ancestral_metric = []\n",
    "    for rep in range(rep_count):\n",
    "        rep_path = os.path.join(data_path, \"rep\" + str(rep))\n",
    "        case_path = os.path.join(rep_path, \"case\" + str(case_no))\n",
    "        clustering_file = os.path.join(case_path, \"canopy\", \"predicted.csv\")\n",
    "        ancestral_matrix_file = os.path.join(case_path, \"canopy\", \"ancestral_matrix.csv\")\n",
    "        if os.path.exists(clustering_file) and os.path.exists(ancestral_matrix_file):\n",
    "            truth0 = pd.read_csv(os.path.join(case_path, \"cluster_labels.txt\"), header=None, names=[\"ID\", \"Cluster\"])\n",
    "            ancestral_matrix_truth = np.asarray(pd.read_csv(os.path.join(case_path, \"ancestral_matrix.csv\"), header=None))\n",
    "\n",
    "            predicted = pd.read_csv(clustering_file)\n",
    "            ancestral_matrix = np.asarray(pd.read_table(ancestral_matrix_file, header=None, sep=\" \"))\n",
    "\n",
    "            rand.append(adjusted_rand_score(truth0[\"Cluster\"], predicted[\"Cluster\"]))\n",
    "            mutual_info.append(adjusted_mutual_info_score(truth0[\"Cluster\"], predicted[\"Cluster\"]))\n",
    "            vmeasure.append(v_measure_score(truth0[\"Cluster\"], predicted[\"Cluster\"]))\n",
    "            ancestral_metric.append(np.mean(np.abs(ancestral_matrix_truth - ancestral_matrix)))\n",
    "\n",
    "    df = pd.DataFrame(list(zip(rand, mutual_info, vmeasure, ancestral_metric)), columns=[\"AdjRandIndex\", \"AdjMutualInformation\", \"VMeasure\", \"AncestralMetric\"])\n",
    "    if output_path is not None:\n",
    "        if not os.path.exists(output_path):\n",
    "            os.makedirs(output_path)\n",
    "        output_file = os.path.join(output_path, \"canopy.csv\")\n",
    "        df.to_csv(output_file, index=False)\n",
    "    return df\n"
   ]
  },
  {
   "cell_type": "code",
   "execution_count": 13,
   "metadata": {},
   "outputs": [],
   "source": [
    "output_path = \"../../_output/simul/binary/snvs/\"\n",
    "data_path = \"../../data/simulation/binary/\"\n",
    "df = ProcessCanopyOutput(data_path, 0, output_path)"
   ]
  },
  {
   "cell_type": "code",
   "execution_count": 14,
   "metadata": {},
   "outputs": [],
   "source": [
    "output_path = \"../../_output/simul/binary_cn/snvs/\"\n",
    "data_path = \"../../data/simulation/binary_cn/\"\n",
    "df = ProcessCanopyOutput(data_path, 0, output_path)"
   ]
  },
  {
   "cell_type": "code",
   "execution_count": 15,
   "metadata": {},
   "outputs": [],
   "source": [
    "output_path = \"../../_output/simul/quadternary_cn/snvs/\"\n",
    "data_path = \"../../data/simulation/quadternary_cn/\"\n",
    "df = ProcessCanopyOutput(data_path, 0, output_path)"
   ]
  },
  {
   "cell_type": "code",
   "execution_count": 16,
   "metadata": {},
   "outputs": [],
   "source": [
    "output_path = \"../../_output/simul/quadternary_cn_multiregion/snvs/\"\n",
    "data_path = \"../../data/simulation/quadternary_cn_multiregion//\"\n",
    "df = ProcessCanopyOutput(data_path, 0, output_path)"
   ]
  },
  {
   "cell_type": "code",
   "execution_count": 17,
   "metadata": {},
   "outputs": [],
   "source": [
    "output_path = \"../../_output/simul/quadternary_multiregion/snvs/\"\n",
    "data_path = \"../../data/simulation/quadternary_multiregion/\"\n",
    "df = ProcessCanopyOutput(data_path, 0, output_path)"
   ]
  },
  {
   "cell_type": "code",
   "execution_count": null,
   "metadata": {},
   "outputs": [],
   "source": []
  }
 ],
 "metadata": {
  "kernelspec": {
   "display_name": "Python 3",
   "language": "python",
   "name": "python3"
  },
  "language_info": {
   "codemirror_mode": {
    "name": "ipython",
    "version": 3
   },
   "file_extension": ".py",
   "mimetype": "text/x-python",
   "name": "python",
   "nbconvert_exporter": "python",
   "pygments_lexer": "ipython3",
   "version": "3.8.3"
  }
 },
 "nbformat": 4,
 "nbformat_minor": 4
}
