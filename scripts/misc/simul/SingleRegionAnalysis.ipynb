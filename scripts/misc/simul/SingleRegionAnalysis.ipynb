{
 "cells": [
  {
   "cell_type": "code",
   "execution_count": 1,
   "metadata": {},
   "outputs": [],
   "source": [
    "from sklearn.metrics.cluster import adjusted_rand_score\n",
    "from sklearn.metrics.cluster import adjusted_mutual_info_score\n",
    "from sklearn.metrics.cluster import v_measure_score"
   ]
  },
  {
   "cell_type": "code",
   "execution_count": 2,
   "metadata": {},
   "outputs": [],
   "source": [
    "import pandas as pd\n",
    "import numpy as np\n",
    "import os"
   ]
  },
  {
   "cell_type": "code",
   "execution_count": 3,
   "metadata": {},
   "outputs": [],
   "source": [
    "def ProcessCase(data_path, case_no, output_path = None, rep_count = 20, chain_count = 4, region_count = 3):\n",
    "    rand = []\n",
    "    mutual_info = []\n",
    "    vmeasure = []\n",
    "    ancestral_metric = []\n",
    "    for rep in range(rep_count):\n",
    "        rep_path = os.path.join(data_path, \"rep\" + str(rep))\n",
    "        case_path = os.path.join(rep_path, \"case\" + str(case_no))\n",
    "        truth0 = pd.read_csv(os.path.join(case_path, \"cluster_labels.txt\"), header=None, names=[\"ID\", \"Cluster\"])\n",
    "        ancestral_matrix_truth = np.asarray(pd.read_csv(os.path.join(case_path, \"ancestral_matrix.csv\"), header=None))\n",
    "\n",
    "        # Check which chain achieved the highest likelihood.\n",
    "        for region in range(1, region_count +1):\n",
    "            region_path = os.path.join(case_path, \"single_region_genotype\" + str(region))\n",
    "            log_likelihoods = []\n",
    "            for chain in range(chain_count):\n",
    "                chain_path = os.path.join(region_path, \"chain\" + str(chain))\n",
    "                log_likelihood = pd.read_table(os.path.join(chain_path, \"joint\", \"tree0\", \"log_lik.txt\"), header=None, names=[\"LogLik\"])\n",
    "                log_likelihoods.append(log_likelihood[\"LogLik\"])\n",
    "\n",
    "            best_chain = np.argmax(log_likelihoods)\n",
    "            pred_path = os.path.join(region_path, \"chain\" + str(best_chain), \"joint\", \"tree0\")\n",
    "            predicted = pd.read_table(os.path.join(pred_path, \"cluster_labels.tsv\"), header=None, names=[\"ID\", \"Cluster\"])\n",
    "            ancestral_matrix = np.asarray(pd.read_csv(os.path.join(pred_path, \"ancestral_matrix.csv\"), header=None))\n",
    "\n",
    "            rand.append(adjusted_rand_score(truth0[\"Cluster\"], predicted[\"Cluster\"]))\n",
    "            mutual_info.append(adjusted_mutual_info_score(truth0[\"Cluster\"], predicted[\"Cluster\"]))\n",
    "            vmeasure.append(v_measure_score(truth0[\"Cluster\"], predicted[\"Cluster\"]))\n",
    "            ancestral_metric.append(np.mean(np.abs(ancestral_matrix_truth - ancestral_matrix)))\n",
    "        \n",
    "    df = pd.DataFrame(list(zip(rand, mutual_info, vmeasure, ancestral_metric)), columns=[\"AdjRandIndex\", \"AdjMutualInformation\", \"VMeasure\", \"AncestralMetric\"])\n",
    "    if output_path is not None:\n",
    "        if not os.path.exists(output_path):\n",
    "            os.makedirs(output_path)\n",
    "        output_file = os.path.join(output_path, \"single_region_case\" + str(case_no) + \".csv\")\n",
    "        df.to_csv(output_file, index=False)\n",
    "    return(df)\n"
   ]
  },
  {
   "cell_type": "code",
   "execution_count": 4,
   "metadata": {},
   "outputs": [],
   "source": [
    "# Process results from our method.\n",
    "output_path = \"/Users/seonghwanjun/ScRNACloneEvaluation/data/simul/quadternary_multiregion/snvs/\"\n",
    "data_path = \"/Users/seonghwanjun/data/single_region/simul/quadternary_multiregion/\"\n",
    "df0 = ProcessCase(data_path, 0, output_path, region_count=1)\n",
    "df1 = ProcessCase(data_path, 1, output_path, region_count=1)\n",
    "df2 = ProcessCase(data_path, 2, output_path, region_count=1)\n",
    "df3 = ProcessCase(data_path, 3, output_path, region_count=1)\n"
   ]
  },
  {
   "cell_type": "code",
   "execution_count": 5,
   "metadata": {},
   "outputs": [],
   "source": [
    "# Process results from our method.\n",
    "output_path = \"/Users/seonghwanjun/ScRNACloneEvaluation/data/simul/quadternary_cn_multiregion/snvs/\"\n",
    "data_path = \"/Users/seonghwanjun/data/single_region/simul/quadternary_cn_multiregion/\"\n",
    "df0 = ProcessCase(data_path, 0, output_path, region_count=1)\n",
    "df1 = ProcessCase(data_path, 1, output_path, region_count=1)\n",
    "df2 = ProcessCase(data_path, 2, output_path, region_count=1)\n",
    "df3 = ProcessCase(data_path, 3, output_path, region_count=1)\n"
   ]
  },
  {
   "cell_type": "code",
   "execution_count": null,
   "metadata": {},
   "outputs": [],
   "source": []
  }
 ],
 "metadata": {
  "kernelspec": {
   "display_name": "Python 3",
   "language": "python",
   "name": "python3"
  },
  "language_info": {
   "codemirror_mode": {
    "name": "ipython",
    "version": 3
   },
   "file_extension": ".py",
   "mimetype": "text/x-python",
   "name": "python",
   "nbconvert_exporter": "python",
   "pygments_lexer": "ipython3",
   "version": "3.8.3"
  }
 },
 "nbformat": 4,
 "nbformat_minor": 4
}
