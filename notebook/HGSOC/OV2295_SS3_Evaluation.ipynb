{
 "cells": [
  {
   "cell_type": "code",
   "execution_count": 13,
   "metadata": {},
   "outputs": [
    {
     "data": {
      "text/plain": [
       "'0.23.1'"
      ]
     },
     "execution_count": 13,
     "metadata": {},
     "output_type": "execute_result"
    }
   ],
   "source": [
    "# Run ExtractPhyloWGSResults.py and Rscripts/ProcessBSCITEResults.R.\n",
    "\n",
    "from sklearn.metrics.cluster import adjusted_rand_score\n",
    "from sklearn.metrics.cluster import adjusted_mutual_info_score\n",
    "from sklearn.metrics.cluster import v_measure_score\n",
    "\n",
    "import pandas as pd\n",
    "import numpy as np\n",
    "import os\n",
    "\n",
    "#data_path = \"/Users/seonghwanjun/data/cell-line/HGSOC_SS3/\"\n",
    "data_path = \"/Users/seonghwanjun/PhylExAnalysis/data/HGSOC_SS3/\"\n",
    "\n",
    "import sklearn\n",
    "sklearn.__version__"
   ]
  },
  {
   "cell_type": "code",
   "execution_count": 5,
   "metadata": {},
   "outputs": [
    {
     "name": "stdout",
     "output_type": "stream",
     "text": [
      "(67, 67)\n"
     ]
    }
   ],
   "source": [
    "#gt = pd.read_csv(\"/Users/seonghwanjun/data/cell-line/bulk/OV2295/genotype/gt.txt\", header=0, sep=\" \")\n",
    "gt = pd.read_csv(\"../../data/HGSOC_SS3/gt.txt\", header=0, sep=\" \")\n",
    "valid_clone_names = [\"A_B_C_D_E_F_G_H_I\", \"A_B_C_D\", \"A_B\", \"C_D\", \"A\", \"B\", \"C\", \"D\", \"E_F_G_H_I\", \"E_F\", \"E\", \"F\"]\n",
    "\n",
    "# Evaluate the ancestral metric.\n",
    "# Get the true ancestral metric: not many SNVs, just do a plain double for loops. \n",
    "snv_count = gt.shape[0]\n",
    "A = np.zeros(shape = (snv_count, snv_count))\n",
    "for i in range(snv_count):\n",
    "    clone_i = set(gt.iloc[i][\"CloneName\"].split(\"_\"))\n",
    "    for j in range(snv_count):\n",
    "        clone_j = set(gt.iloc[j][\"CloneName\"].split(\"_\"))\n",
    "        if clone_i != clone_j and clone_j.issubset(clone_i):\n",
    "            A[i,j] = 1\n",
    "\n",
    "idx = np.array(np.where(gt[\"CloneName\"].isin(valid_clone_names)))[0]\n",
    "valid_idx = np.ix_(idx, idx)\n",
    "A0 = A[valid_idx]"
   ]
  },
  {
   "cell_type": "code",
   "execution_count": 11,
   "metadata": {},
   "outputs": [
    {
     "name": "stdout",
     "output_type": "stream",
     "text": [
      "[0.68140419 0.68445145 0.64897253 0.08882325]\n",
      "[0.31832363 0.35207034 0.32987152 0.1040324 ]\n"
     ]
    }
   ],
   "source": [
    "# Our method.\n",
    "rep_count = 20\n",
    "metrics = np.zeros([rep_count, 4])\n",
    "for rep in range(rep_count):\n",
    "#    rep_path = os.path.join(data_path, \"phylex_1_02_05\", \"phylex\", \"chain\" + str(rep))\n",
    "    rep_path = os.path.join(data_path, \"phylex\", \"rep\" + str(rep))\n",
    "    predicted = pd.read_csv(rep_path + \"/joint/tree0/cluster_labels.tsv\", header=None, sep=\"\\t\", names=[\"ID\", \"CloneName\"])\n",
    "    tbl_join = predicted.join(gt, lsuffix='_caller', rsuffix='_other')\n",
    "    ret = tbl_join[tbl_join[\"CloneName_other\"].isnull() == False]\n",
    "    ret_valid = tbl_join[tbl_join[\"CloneName_other\"].isin(valid_clone_names)]\n",
    "\n",
    "    ancestral_matrix = pd.read_csv(rep_path + \"/joint/tree0/ancestral_matrix.csv\", header=None)\n",
    "    ancestral_matrix = np.asarray(ancestral_matrix)\n",
    "    ancestral_matrix_0 = ancestral_matrix[valid_idx]\n",
    "    metrics[rep,0] = v_measure_score(ret_valid[\"CloneName_other\"], ret_valid[\"CloneName_caller\"])\n",
    "    metrics[rep,1] = adjusted_rand_score(ret_valid[\"CloneName_other\"], ret_valid[\"CloneName_caller\"])\n",
    "    metrics[rep,2] = adjusted_mutual_info_score(ret_valid[\"CloneName_other\"], ret_valid[\"CloneName_caller\"])\n",
    "    metrics[rep,3] = np.mean(np.abs(ancestral_matrix_0 - A0))\n",
    "    \n",
    "# V-measure, adjusted rand score, adjusted mutual info, ancestral metric.\n",
    "print(metrics.mean(0))\n",
    "print(metrics.std(0))"
   ]
  },
  {
   "cell_type": "code",
   "execution_count": 15,
   "metadata": {},
   "outputs": [
    {
     "name": "stdout",
     "output_type": "stream",
     "text": [
      "[0.24742038 0.29172581 0.1922902  0.19820416]\n",
      "[0.05455369 0.05858822 0.05845756 0.02063189]\n"
     ]
    }
   ],
   "source": [
    "# PhyloSub.\n",
    "metrics = np.zeros([rep_count, 4])\n",
    "for rep in range(rep_count):\n",
    "    #rep_path = \"/Users/seonghwanjun/data/cell-line/bulk/OV2295/genotype/bulk_only/rep\" + str(rep)\n",
    "    rep_path = os.path.join(data_path, \"tssb_2_05_05\", \"tssb\", \"chain\" + str(rep))\n",
    "    predicted = pd.read_csv(rep_path + \"/joint/tree0/cluster_labels.tsv\", header=None, sep=\"\\t\", names=[\"ID\", \"CloneName\"])\n",
    "    tbl_join = predicted.join(gt, lsuffix='_caller', rsuffix='_other')\n",
    "    ret = tbl_join[tbl_join[\"CloneName_other\"].isnull() == False]\n",
    "    ret_valid = tbl_join[tbl_join[\"CloneName_other\"].isin(valid_clone_names)]\n",
    "\n",
    "    ancestral_matrix = pd.read_csv(rep_path + \"/joint/tree0/ancestral_matrix.csv\", header=None)\n",
    "    ancestral_matrix = np.asarray(ancestral_matrix)\n",
    "    ancestral_matrix_0 = ancestral_matrix[valid_idx]\n",
    "    metrics[rep,0] = v_measure_score(ret_valid[\"CloneName_other\"], ret_valid[\"CloneName_caller\"])\n",
    "    metrics[rep,1] = adjusted_rand_score(ret_valid[\"CloneName_other\"], ret_valid[\"CloneName_caller\"])\n",
    "    metrics[rep,2] = adjusted_mutual_info_score(ret_valid[\"CloneName_other\"], ret_valid[\"CloneName_caller\"])\n",
    "    metrics[rep,3] = np.mean(np.abs(ancestral_matrix_0 - A0))\n",
    "    \n",
    "# V-measure, adjusted rand score, adjusted mutual info, ancestral metric.\n",
    "print(metrics.mean(0))\n",
    "print(metrics.std(0))"
   ]
  },
  {
   "cell_type": "code",
   "execution_count": 16,
   "metadata": {},
   "outputs": [
    {
     "name": "stdout",
     "output_type": "stream",
     "text": [
      "0.4829870174461928\n",
      "0.04580008626266983\n",
      "0.0744216195098232\n"
     ]
    }
   ],
   "source": [
    "# ddClone\n",
    "pred_path = os.path.join(data_path, \"ddClone\")\n",
    "predicted = pd.read_table(os.path.join(pred_path, \"results.txt\"), sep=\" \")\n",
    "predicted.columns=[\"ID\", \"phi\", \"CloneName\"]\n",
    "\n",
    "tbl_join = predicted.join(gt, lsuffix='_caller', rsuffix='_other')\n",
    "ret = tbl_join[tbl_join[\"CloneName_other\"].isnull() == False]\n",
    "ret_valid = tbl_join[tbl_join[\"CloneName_other\"].isin(valid_clone_names)]\n",
    "\n",
    "print(v_measure_score(ret_valid[\"CloneName_other\"], ret_valid[\"CloneName_caller\"]))\n",
    "print(adjusted_rand_score(ret_valid[\"CloneName_other\"], ret_valid[\"CloneName_caller\"]))\n",
    "print(adjusted_mutual_info_score(ret_valid[\"CloneName_other\"], ret_valid[\"CloneName_caller\"]))\n"
   ]
  },
  {
   "cell_type": "code",
   "execution_count": 17,
   "metadata": {},
   "outputs": [
    {
     "name": "stdout",
     "output_type": "stream",
     "text": [
      "0.4301579869830684\n",
      "0.08168476438575224\n",
      "0.20509209020698457\n",
      "0.2556710775047259\n"
     ]
    }
   ],
   "source": [
    "# B-SCITE:\n",
    "pred_path = os.path.join(data_path, \"B-SCITE\")\n",
    "clustering_prediction_file = os.path.join(pred_path, \"results.txt\")\n",
    "predicted = pd.read_table(clustering_prediction_file, sep=\" \")\n",
    "\n",
    "tbl_join = predicted.join(gt, lsuffix='_caller', rsuffix='_other')\n",
    "ret = tbl_join[tbl_join[\"CloneName_other\"].isnull() == False]\n",
    "ret_valid = tbl_join[tbl_join[\"CloneName_other\"].isin(valid_clone_names)]\n",
    "\n",
    "# Read the ancestral matrix line-by-line.\n",
    "with open(os.path.join(pred_path, \"bscite.matrices\"), \"r\") as f:\n",
    "    line = f.readline()\n",
    "    mutation_count = int(line.split()[1])\n",
    "    f.readline()\n",
    "    A = []\n",
    "    for _ in range(mutation_count):\n",
    "        line = f.readline()\n",
    "        A.append(line.split())\n",
    "\n",
    "A = np.asarray(A, dtype=int)\n",
    "A = A[valid_idx]\n",
    "\n",
    "print(v_measure_score(ret_valid[\"CloneName_other\"], ret_valid[\"CloneName_caller\"]))\n",
    "print(adjusted_rand_score(ret_valid[\"CloneName_other\"], ret_valid[\"CloneName_caller\"]))\n",
    "print(adjusted_mutual_info_score(ret_valid[\"CloneName_other\"], ret_valid[\"CloneName_caller\"]))\n",
    "print(np.mean(np.abs(A - A0)))\n"
   ]
  },
  {
   "cell_type": "code",
   "execution_count": 18,
   "metadata": {},
   "outputs": [
    {
     "name": "stdout",
     "output_type": "stream",
     "text": [
      "0.447844219827592\n",
      "0.2823002055523911\n",
      "0.26238513702386707\n",
      "0.19092627599243855\n"
     ]
    }
   ],
   "source": [
    "# Compute the metrics on Canopy.\n",
    "clustering_file = os.path.join(data_path, \"canopy\", \"predicted.csv\")\n",
    "ancestral_matrix_file = os.path.join(data_path, \"canopy\", \"ancestral_matrix.csv\")\n",
    "\n",
    "predicted = pd.read_csv(clustering_file)\n",
    "predicted.columns=[\"ID\", \"CloneName\"]\n",
    "\n",
    "tbl_join = predicted.join(gt, lsuffix='_caller', rsuffix='_other')\n",
    "ret = tbl_join[tbl_join[\"CloneName_other\"].isnull() == False]\n",
    "ret_valid = tbl_join[tbl_join[\"CloneName_other\"].isin(valid_clone_names)]\n",
    "\n",
    "ancestral_matrix = np.asarray(pd.read_table(ancestral_matrix_file, header=None, sep=\" \"))\n",
    "ancestral_matrix = ancestral_matrix[valid_idx]\n",
    "\n",
    "print(v_measure_score(ret_valid[\"CloneName_other\"], ret_valid[\"CloneName_caller\"]))\n",
    "print(adjusted_rand_score(ret_valid[\"CloneName_other\"], ret_valid[\"CloneName_caller\"]))\n",
    "print(adjusted_mutual_info_score(ret_valid[\"CloneName_other\"], ret_valid[\"CloneName_caller\"]))\n",
    "print(np.mean(np.abs(ancestral_matrix - A0)))\n"
   ]
  },
  {
   "cell_type": "code",
   "execution_count": 18,
   "metadata": {},
   "outputs": [
    {
     "name": "stdout",
     "output_type": "stream",
     "text": [
      "2.60577903472376e-16\n",
      "0.0\n",
      "2.6057790347237605e-16\n",
      "0.2684310018903592\n"
     ]
    }
   ],
   "source": [
    "# PhyloWGS:\n",
    "clustering_file = os.path.join(data_path, \"phylowgs\", \"clustering.txt\")\n",
    "ancestral_matrix_file = os.path.join(data_path, \"phylowgs\", \"ancestral_matrix.txt\")\n",
    "\n",
    "predicted = pd.read_table(clustering_file, header=None, names=[\"ID\", \"CloneName\"], sep=\" \")\n",
    "ancestral_matrix = np.asarray(pd.read_table(ancestral_matrix_file, header=None, sep=\" \"))\n",
    "\n",
    "tbl_join = predicted.join(gt, lsuffix='_caller', rsuffix='_other')\n",
    "ret = tbl_join[tbl_join[\"CloneName_other\"].isnull() == False]\n",
    "ret_valid = tbl_join[tbl_join[\"CloneName_other\"].isin(valid_clone_names)]\n",
    "\n",
    "print(v_measure_score(ret_valid[\"CloneName_other\"], ret_valid[\"CloneName_caller\"]))\n",
    "print(adjusted_rand_score(ret_valid[\"CloneName_other\"], ret_valid[\"CloneName_caller\"]))\n",
    "print(adjusted_mutual_info_score(ret_valid[\"CloneName_other\"], ret_valid[\"CloneName_caller\"]))\n",
    "print(np.mean(np.abs(A0 - ancestral_matrix[valid_idx])))\n"
   ]
  },
  {
   "cell_type": "code",
   "execution_count": 38,
   "metadata": {},
   "outputs": [
    {
     "name": "stdout",
     "output_type": "stream",
     "text": [
      "[0.8679923  0.88393576 0.83608845 0.03936673]\n",
      "[0.01875681 0.02273957 0.02529606 0.00985336]\n"
     ]
    }
   ],
   "source": [
    "# Our method.\n",
    "rep_count = 20\n",
    "metrics = np.zeros([rep_count, 4])\n",
    "for rep in range(rep_count):\n",
    "    rep_path = os.path.join(data_path, \"phylex_5_1_02\", \"phylex\", \"chain\" + str(rep))\n",
    "    predicted = pd.read_csv(rep_path + \"/joint/tree0/cluster_labels.tsv\", header=None, sep=\"\\t\", names=[\"ID\", \"CloneName\"])\n",
    "    tbl_join = predicted.join(gt, lsuffix='_caller', rsuffix='_other')\n",
    "    ret = tbl_join[tbl_join[\"CloneName_other\"].isnull() == False]\n",
    "    ret_valid = tbl_join[tbl_join[\"CloneName_other\"].isin(valid_clone_names)]\n",
    "\n",
    "    ancestral_matrix = pd.read_csv(rep_path + \"/joint/tree0/ancestral_matrix.csv\", header=None)\n",
    "    ancestral_matrix = np.asarray(ancestral_matrix)\n",
    "    ancestral_matrix_0 = ancestral_matrix[valid_idx]\n",
    "    metrics[rep,0] = v_measure_score(ret_valid[\"CloneName_other\"], ret_valid[\"CloneName_caller\"])\n",
    "    metrics[rep,1] = adjusted_rand_score(ret_valid[\"CloneName_other\"], ret_valid[\"CloneName_caller\"])\n",
    "    metrics[rep,2] = adjusted_mutual_info_score(ret_valid[\"CloneName_other\"], ret_valid[\"CloneName_caller\"])\n",
    "    metrics[rep,3] = np.mean(np.abs(ancestral_matrix_0 - A0))\n",
    "    \n",
    "# V-measure, adjusted rand score, adjusted mutual info, ancestral metric.\n",
    "print(metrics.mean(0))\n",
    "print(metrics.std(0))"
   ]
  },
  {
   "cell_type": "code",
   "execution_count": 34,
   "metadata": {},
   "outputs": [
    {
     "name": "stdout",
     "output_type": "stream",
     "text": [
      "[0.87029974 0.88764812 0.83896881 0.03792533]\n",
      "[0.0131808  0.01635229 0.01752512 0.00767558]\n"
     ]
    }
   ],
   "source": [
    "# Our method.\n",
    "rep_count = 20\n",
    "metrics = np.zeros([rep_count, 4])\n",
    "for rep in range(rep_count):\n",
    "    rep_path = os.path.join(data_path, \"phylex_5_1_1\", \"phylex\", \"chain\" + str(rep))\n",
    "    predicted = pd.read_csv(rep_path + \"/joint/tree0/cluster_labels.tsv\", header=None, sep=\"\\t\", names=[\"ID\", \"CloneName\"])\n",
    "    tbl_join = predicted.join(gt, lsuffix='_caller', rsuffix='_other')\n",
    "    ret = tbl_join[tbl_join[\"CloneName_other\"].isnull() == False]\n",
    "    ret_valid = tbl_join[tbl_join[\"CloneName_other\"].isin(valid_clone_names)]\n",
    "\n",
    "    ancestral_matrix = pd.read_csv(rep_path + \"/joint/tree0/ancestral_matrix.csv\", header=None)\n",
    "    ancestral_matrix = np.asarray(ancestral_matrix)\n",
    "    ancestral_matrix_0 = ancestral_matrix[valid_idx]\n",
    "    metrics[rep,0] = v_measure_score(ret_valid[\"CloneName_other\"], ret_valid[\"CloneName_caller\"])\n",
    "    metrics[rep,1] = adjusted_rand_score(ret_valid[\"CloneName_other\"], ret_valid[\"CloneName_caller\"])\n",
    "    metrics[rep,2] = adjusted_mutual_info_score(ret_valid[\"CloneName_other\"], ret_valid[\"CloneName_caller\"])\n",
    "    metrics[rep,3] = np.mean(np.abs(ancestral_matrix_0 - A0))\n",
    "    \n",
    "# V-measure, adjusted rand score, adjusted mutual info, ancestral metric.\n",
    "print(metrics.mean(0))\n",
    "print(metrics.std(0))"
   ]
  },
  {
   "cell_type": "code",
   "execution_count": 33,
   "metadata": {},
   "outputs": [
    {
     "name": "stdout",
     "output_type": "stream",
     "text": [
      "[0.8679923  0.88393576 0.83608845 0.03936673]\n",
      "[0.01875681 0.02273957 0.02529606 0.00985336]\n"
     ]
    }
   ],
   "source": []
  },
  {
   "cell_type": "code",
   "execution_count": 37,
   "metadata": {},
   "outputs": [
    {
     "name": "stdout",
     "output_type": "stream",
     "text": [
      "[0.86341447 0.882625   0.82959099 0.03775992]\n",
      "[0.02169685 0.018047   0.0275778  0.00460842]\n"
     ]
    }
   ],
   "source": [
    "# Our method.\n",
    "rep_count = 20\n",
    "metrics = np.zeros([rep_count, 4])\n",
    "for rep in range(rep_count):\n",
    "    rep_path = os.path.join(data_path, \"phylex_10_1_1\", \"phylex\", \"chain\" + str(rep))\n",
    "    predicted = pd.read_csv(rep_path + \"/joint/tree0/cluster_labels.tsv\", header=None, sep=\"\\t\", names=[\"ID\", \"CloneName\"])\n",
    "    tbl_join = predicted.join(gt, lsuffix='_caller', rsuffix='_other')\n",
    "    ret = tbl_join[tbl_join[\"CloneName_other\"].isnull() == False]\n",
    "    ret_valid = tbl_join[tbl_join[\"CloneName_other\"].isin(valid_clone_names)]\n",
    "\n",
    "    ancestral_matrix = pd.read_csv(rep_path + \"/joint/tree0/ancestral_matrix.csv\", header=None)\n",
    "    ancestral_matrix = np.asarray(ancestral_matrix)\n",
    "    ancestral_matrix_0 = ancestral_matrix[valid_idx]\n",
    "    metrics[rep,0] = v_measure_score(ret_valid[\"CloneName_other\"], ret_valid[\"CloneName_caller\"])\n",
    "    metrics[rep,1] = adjusted_rand_score(ret_valid[\"CloneName_other\"], ret_valid[\"CloneName_caller\"])\n",
    "    metrics[rep,2] = adjusted_mutual_info_score(ret_valid[\"CloneName_other\"], ret_valid[\"CloneName_caller\"])\n",
    "    metrics[rep,3] = np.mean(np.abs(ancestral_matrix_0 - A0))\n",
    "    \n",
    "# V-measure, adjusted rand score, adjusted mutual info, ancestral metric.\n",
    "print(metrics.mean(0))\n",
    "print(metrics.std(0))"
   ]
  },
  {
   "cell_type": "code",
   "execution_count": null,
   "metadata": {},
   "outputs": [],
   "source": [
    "# Our method.\n",
    "rep_count = 20\n",
    "metrics = np.zeros([rep_count, 4])\n",
    "for rep in range(rep_count):\n",
    "    rep_path = os.path.join(data_path, \"phylex_10_1_1\", \"phylex\", \"chain\" + str(rep))\n",
    "    predicted = pd.read_csv(rep_path + \"/joint/tree0/cluster_labels.tsv\", header=None, sep=\"\\t\", names=[\"ID\", \"CloneName\"])\n",
    "    tbl_join = predicted.join(gt, lsuffix='_caller', rsuffix='_other')\n",
    "    ret = tbl_join[tbl_join[\"CloneName_other\"].isnull() == False]\n",
    "    ret_valid = tbl_join[tbl_join[\"CloneName_other\"].isin(valid_clone_names)]\n",
    "\n",
    "    ancestral_matrix = pd.read_csv(rep_path + \"/joint/tree0/ancestral_matrix.csv\", header=None)\n",
    "    ancestral_matrix = np.asarray(ancestral_matrix)\n",
    "    ancestral_matrix_0 = ancestral_matrix[valid_idx]\n",
    "    metrics[rep,0] = v_measure_score(ret_valid[\"CloneName_other\"], ret_valid[\"CloneName_caller\"])\n",
    "    metrics[rep,1] = adjusted_rand_score(ret_valid[\"CloneName_other\"], ret_valid[\"CloneName_caller\"])\n",
    "    metrics[rep,2] = adjusted_mutual_info_score(ret_valid[\"CloneName_other\"], ret_valid[\"CloneName_caller\"])\n",
    "    metrics[rep,3] = np.mean(np.abs(ancestral_matrix_0 - A0))\n",
    "    \n",
    "# V-measure, adjusted rand score, adjusted mutual info, ancestral metric.\n",
    "print(metrics.mean(0))\n",
    "print(metrics.std(0))"
   ]
  }
 ],
 "metadata": {
  "kernelspec": {
   "display_name": "Python 3",
   "language": "python",
   "name": "python3"
  },
  "language_info": {
   "codemirror_mode": {
    "name": "ipython",
    "version": 3
   },
   "file_extension": ".py",
   "mimetype": "text/x-python",
   "name": "python",
   "nbconvert_exporter": "python",
   "pygments_lexer": "ipython3",
   "version": "3.8.3"
  }
 },
 "nbformat": 4,
 "nbformat_minor": 4
}
