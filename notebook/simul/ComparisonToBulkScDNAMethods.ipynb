{
 "cells": [
  {
   "cell_type": "code",
   "execution_count": 1,
   "metadata": {},
   "outputs": [],
   "source": [
    "from sklearn.metrics.cluster import adjusted_rand_score\n",
    "from sklearn.metrics.cluster import adjusted_mutual_info_score\n",
    "from sklearn.metrics.cluster import v_measure_score"
   ]
  },
  {
   "cell_type": "code",
   "execution_count": 2,
   "metadata": {},
   "outputs": [],
   "source": [
    "import pandas as pd\n",
    "import numpy as np\n",
    "import os"
   ]
  },
  {
   "cell_type": "code",
   "execution_count": 9,
   "metadata": {},
   "outputs": [],
   "source": [
    "# Process ddClone results.\n",
    "def ProcessDDCloneResults(data_path, case_no, output_path = None, rep_count = 20):\n",
    "    rand = []\n",
    "    mutual_info = []\n",
    "    vmeasure = []\n",
    "    ancestral_metric = []\n",
    "    for rep in range(rep_count):\n",
    "        rep_path = os.path.join(data_path, \"rep\" + str(rep))\n",
    "        case_path = os.path.join(rep_path, \"case\" + str(case_no))\n",
    "        truth0 = pd.read_csv(os.path.join(case_path, \"cluster_labels.txt\"), header=None, names=[\"ID\", \"Cluster\"])\n",
    "\n",
    "        pred_path = os.path.join(case_path, \"ddClone\")\n",
    "        predicted = pd.read_table(os.path.join(pred_path, \"results.txt\"), sep=\" \")\n",
    "\n",
    "        rand.append(adjusted_rand_score(truth0[\"Cluster\"], predicted[\"clusterID\"]))\n",
    "        mutual_info.append(adjusted_mutual_info_score(truth0[\"Cluster\"], predicted[\"clusterID\"]))\n",
    "        vmeasure.append(v_measure_score(truth0[\"Cluster\"], predicted[\"clusterID\"]))\n",
    "\n",
    "    df = pd.DataFrame(list(zip(rand, mutual_info, vmeasure)), columns=[\"AdjRandIndex\", \"AdjMutualInformation\", \"VMeasure\"])\n",
    "    if output_path is not None:\n",
    "        if not os.path.exists(output_path):\n",
    "            os.makedirs(output_path)\n",
    "        output_file = os.path.join(output_path, \"ddClone_case\" + str(case_no) + \".csv\")\n",
    "        df.to_csv(output_file, index=False)\n",
    "    return(df)\n",
    "    "
   ]
  },
  {
   "cell_type": "code",
   "execution_count": 11,
   "metadata": {},
   "outputs": [],
   "source": [
    "data_path = \"../../data/simulation/binary/\"\n",
    "output_path = \"../../_output/simul/binary/snvs/\"\n",
    "df1 = ProcessDDCloneResults(data_path, 1, output_path)\n",
    "df2 = ProcessDDCloneResults(data_path, 2, output_path)\n",
    "df3 = ProcessDDCloneResults(data_path, 3, output_path)\n"
   ]
  },
  {
   "cell_type": "code",
   "execution_count": 16,
   "metadata": {},
   "outputs": [],
   "source": [
    "data_path = \"../../data/simulation/binary_cn/\"\n",
    "output_path = \"../../_output/simul/binary_cn/snvs/\"\n",
    "df1 = ProcessDDCloneResults(data_path, 1, output_path)\n",
    "df2 = ProcessDDCloneResults(data_path, 2, output_path)\n",
    "df3 = ProcessDDCloneResults(data_path, 3, output_path)\n"
   ]
  },
  {
   "cell_type": "code",
   "execution_count": 25,
   "metadata": {},
   "outputs": [],
   "source": [
    "data_path = \"../../data/simulation/quadternary_cn/\"\n",
    "output_path = \"../../_output/simul/quadternary_cn/snvs/\"\n",
    "df1 = ProcessDDCloneResults(data_path, 1, output_path)\n",
    "df2 = ProcessDDCloneResults(data_path, 2, output_path)\n",
    "df3 = ProcessDDCloneResults(data_path, 3, output_path)\n"
   ]
  },
  {
   "cell_type": "code",
   "execution_count": null,
   "metadata": {},
   "outputs": [],
   "source": []
  },
  {
   "cell_type": "code",
   "execution_count": null,
   "metadata": {},
   "outputs": [],
   "source": []
  },
  {
   "cell_type": "code",
   "execution_count": 13,
   "metadata": {},
   "outputs": [],
   "source": [
    "# Process B-SCITE results.\n",
    "def ProcessBSCITE(data_path, case_no, output_path = None, rep_count = 20):\n",
    "    #case_path = \"/Users/seonghwanjun/data/simulation/binary4/case\" + str(case_no) + \"/sim0\"\n",
    "    rand = []\n",
    "    mutual_info = []\n",
    "    vmeasure = []\n",
    "    ancestral_metric = []\n",
    "    for rep in range(rep_count):\n",
    "        rep_path = os.path.join(data_path, \"rep\" + str(rep))\n",
    "        case_path = os.path.join(rep_path, \"case\" + str(case_no))\n",
    "        truth0 = pd.read_csv(os.path.join(case_path, \"cluster_labels.txt\"), header=None, names=[\"ID\", \"Cluster\"])\n",
    "        A0 = np.asarray(pd.read_csv(os.path.join(case_path, \"ancestral_matrix.csv\"), header=None))\n",
    "\n",
    "        pred_path = os.path.join(case_path, \"bscite\")\n",
    "        clustering_prediction_file = os.path.join(pred_path, \"results.txt\")\n",
    "        if os.path.exists(clustering_prediction_file):\n",
    "            predicted = pd.read_table(clustering_prediction_file, sep=\" \")\n",
    "\n",
    "            rand.append(adjusted_rand_score(truth0[\"Cluster\"], predicted[\"Cluster\"]))\n",
    "            mutual_info.append(adjusted_mutual_info_score(truth0[\"Cluster\"], predicted[\"Cluster\"]))\n",
    "            vmeasure.append(v_measure_score(truth0[\"Cluster\"], predicted[\"Cluster\"]))\n",
    "\n",
    "            # Read the ancestral matrix line-by-line.\n",
    "            with open(os.path.join(pred_path, \"bscite.matrices\"), \"r\") as f:\n",
    "                line = f.readline()\n",
    "                mutation_count = int(line.split()[1])\n",
    "                f.readline()\n",
    "                A = []\n",
    "                for _ in range(mutation_count):\n",
    "                    line = f.readline()\n",
    "                    A.append(line.split())\n",
    "\n",
    "            A = np.asarray(A, dtype=int)\n",
    "\n",
    "            ancestral_metric.append(np.mean(np.abs(A - A0)))\n",
    "        \n",
    "    df = pd.DataFrame(list(zip(rand, mutual_info, vmeasure, ancestral_metric)), columns=[\"AdjRandIndex\", \"AdjMutualInformation\", \"VMeasure\", \"AncestralMetric\"])\n",
    "    if output_path is not None:\n",
    "        if not os.path.exists(output_path):\n",
    "            os.makedirs(output_path)\n",
    "        output_file = os.path.join(output_path, \"bscite_case\" + str(case_no) + \".csv\")\n",
    "        df.to_csv(output_file, index=False)\n",
    "    return(df)\n"
   ]
  },
  {
   "cell_type": "code",
   "execution_count": null,
   "metadata": {},
   "outputs": [],
   "source": [
    "# Run scripts from R to process B-SCITE output before executing this code.\n",
    "data_path = \"../../data/simulation/binary/\"\n",
    "output_path = \"../../_output/simul/binary/snvs/\"\n",
    "df1 = ProcessBSCITE(data_path, 1, output_path)\n",
    "df2 = ProcessBSCITE(data_path, 2, output_path)\n",
    "df3 = ProcessBSCITE(data_path, 3, output_path)\n"
   ]
  },
  {
   "cell_type": "code",
   "execution_count": 19,
   "metadata": {},
   "outputs": [],
   "source": [
    "# Run scripts from R to process B-SCITE output before executing this code.\n",
    "data_path = \"../../data/simulation/binary_cn/\"\n",
    "output_path = \"../../_output/simul/binary_cn/snvs/\"\n",
    "df1 = ProcessBSCITE(data_path, 1, output_path)\n",
    "df2 = ProcessBSCITE(data_path, 2, output_path)\n",
    "df3 = ProcessBSCITE(data_path, 3, output_path)\n"
   ]
  },
  {
   "cell_type": "code",
   "execution_count": 20,
   "metadata": {},
   "outputs": [],
   "source": [
    "# Run scripts from R to process B-SCITE output before executing this code.\n",
    "data_path = \"../../data/simulation/quadternary_cn/\"\n",
    "output_path = \"../../_output/simul/quadternary_cn/snvs/\"\n",
    "df1 = ProcessBSCITE(data_path, 1, output_path)\n",
    "df2 = ProcessBSCITE(data_path, 2, output_path)\n",
    "df3 = ProcessBSCITE(data_path, 3, output_path)\n"
   ]
  },
  {
   "cell_type": "code",
   "execution_count": 21,
   "metadata": {},
   "outputs": [],
   "source": [
    "# Run scripts from R to process B-SCITE output before executing this code.\n",
    "data_path = \"../../data/simulation/quadternary_cn_multiregion/\"\n",
    "output_path = \"../../_output/simul/quadternary_cn_multiregion/snvs/\"\n",
    "df1 = ProcessBSCITE(data_path, 1, output_path)\n",
    "df2 = ProcessBSCITE(data_path, 2, output_path)\n",
    "df3 = ProcessBSCITE(data_path, 3, output_path)\n"
   ]
  },
  {
   "cell_type": "code",
   "execution_count": 22,
   "metadata": {},
   "outputs": [],
   "source": [
    "# Run scripts from R to process B-SCITE output before executing this code.\n",
    "data_path = \"../../data/simulation/quadternary_multiregion/\"\n",
    "output_path = \"../../_output/simul/quadternary_multiregion/snvs/\"\n",
    "df1 = ProcessBSCITE(data_path, 1, output_path)\n",
    "df2 = ProcessBSCITE(data_path, 2, output_path)\n",
    "df3 = ProcessBSCITE(data_path, 3, output_path)\n"
   ]
  },
  {
   "cell_type": "code",
   "execution_count": null,
   "metadata": {},
   "outputs": [],
   "source": []
  }
 ],
 "metadata": {
  "kernelspec": {
   "display_name": "Python 3",
   "language": "python",
   "name": "python3"
  },
  "language_info": {
   "codemirror_mode": {
    "name": "ipython",
    "version": 3
   },
   "file_extension": ".py",
   "mimetype": "text/x-python",
   "name": "python",
   "nbconvert_exporter": "python",
   "pygments_lexer": "ipython3",
   "version": "3.8.3"
  }
 },
 "nbformat": 4,
 "nbformat_minor": 4
}
