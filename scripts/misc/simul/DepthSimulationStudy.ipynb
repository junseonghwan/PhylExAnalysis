{
 "cells": [
  {
   "cell_type": "code",
   "execution_count": 1,
   "metadata": {},
   "outputs": [],
   "source": [
    "from sklearn.metrics.cluster import adjusted_rand_score\n",
    "from sklearn.metrics.cluster import adjusted_mutual_info_score\n",
    "from sklearn.metrics.cluster import v_measure_score"
   ]
  },
  {
   "cell_type": "code",
   "execution_count": 2,
   "metadata": {},
   "outputs": [],
   "source": [
    "import pandas as pd\n",
    "import numpy as np\n",
    "import os"
   ]
  },
  {
   "cell_type": "code",
   "execution_count": 3,
   "metadata": {},
   "outputs": [],
   "source": [
    "def ProcessCase(data_path, case_no, output_path = None, rep_count = 20, chain_count = 4):\n",
    "    rand = []\n",
    "    mutual_info = []\n",
    "    vmeasure = []\n",
    "    ancestral_metric = []\n",
    "    for rep in range(rep_count):\n",
    "        rep_path = os.path.join(data_path, \"rep\" + str(rep))\n",
    "        case_path = os.path.join(rep_path, \"case\" + str(case_no))\n",
    "        truth0 = pd.read_csv(os.path.join(case_path, \"cluster_labels.txt\"), header=None, names=[\"ID\", \"Cluster\"])\n",
    "        ancestral_matrix_truth = np.asarray(pd.read_csv(os.path.join(case_path, \"ancestral_matrix.csv\"), header=None))\n",
    "        \n",
    "        # Check which chain achieved the highest likelihood.\n",
    "        log_likelihoods = []\n",
    "        for chain in range(chain_count):\n",
    "            chain_path = os.path.join(case_path, \"genotype\", \"chain\" + str(chain))\n",
    "            log_likelihood = pd.read_table(os.path.join(chain_path, \"joint\", \"tree0\", \"log_lik.txt\"), header=None, names=[\"LogLik\"])\n",
    "            log_likelihoods.append(log_likelihood[\"LogLik\"])\n",
    "\n",
    "        best_chain = np.argmax(log_likelihoods)\n",
    "        pred_path = os.path.join(case_path, \"genotype\", \"chain\" + str(best_chain), \"joint\", \"tree0\")\n",
    "        predicted = pd.read_table(os.path.join(pred_path, \"cluster_labels.tsv\"), header=None, names=[\"ID\", \"Cluster\"])\n",
    "        ancestral_matrix = np.asarray(pd.read_csv(os.path.join(pred_path, \"ancestral_matrix.csv\"), header=None))\n",
    "\n",
    "        rand.append(adjusted_rand_score(truth0[\"Cluster\"], predicted[\"Cluster\"]))\n",
    "        mutual_info.append(adjusted_mutual_info_score(truth0[\"Cluster\"], predicted[\"Cluster\"]))\n",
    "        vmeasure.append(v_measure_score(truth0[\"Cluster\"], predicted[\"Cluster\"]))\n",
    "        ancestral_metric.append(np.mean(np.abs(ancestral_matrix_truth - ancestral_matrix)))\n",
    "        \n",
    "    df = pd.DataFrame(list(zip(rand, mutual_info, vmeasure, ancestral_metric)), columns=[\"AdjRandIndex\", \"AdjMutualInformation\", \"VMeasure\", \"AncestralMetric\"])\n",
    "    if output_path is not None:\n",
    "        if not os.path.exists(output_path):\n",
    "            os.makedirs(output_path)\n",
    "        output_file = os.path.join(output_path, \"case\" + str(case_no) + \".csv\")\n",
    "        df.to_csv(output_file, index=False)\n",
    "    return(df)\n"
   ]
  },
  {
   "cell_type": "code",
   "execution_count": 6,
   "metadata": {},
   "outputs": [],
   "source": []
  },
  {
   "cell_type": "code",
   "execution_count": 21,
   "metadata": {},
   "outputs": [
    {
     "name": "stdout",
     "output_type": "stream",
     "text": [
      "Depth=2, Dropout level=90 completed running.\n",
      "Depth=2, Dropout level=95 completed running.\n",
      "Depth=2, Dropout level=98 completed running.\n",
      "Depth=5, Dropout level=90 completed running.\n",
      "Depth=5, Dropout level=95 completed running.\n",
      "Depth=5, Dropout level=98 completed running.\n"
     ]
    }
   ],
   "source": [
    "# Write code check that the runs have completed.\n",
    "depths = [\"2\", \"5\"]\n",
    "dropout_levels = [\"90\", \"95\", \"98\"]\n",
    "rep_count = 20\n",
    "case_count = 4\n",
    "chain_count = 4\n",
    "state_count = 275\n",
    "for depth in depths:\n",
    "    for dropout_level in dropout_levels:\n",
    "        data_path = \"/Users/seonghwanjun/data/simul/10X/depth\" + depth + \"/cn/dropout\" + dropout_level + \"/\"\n",
    "        finished = True\n",
    "        for rep in range(rep_count):\n",
    "            for case in range(case_count):\n",
    "                for chain in range(chain_count):\n",
    "                    path_to_final_state = os.path.join(data_path, \"rep\" + str(rep), \"case\" + str(case), \"genotype\", \"chain\" + str(chain), \"states\", \"tree\" + str(state_count))\n",
    "                    if not os.path.exists(path_to_final_state):\n",
    "                        print(\"Depth=%s, Dropout level=%s, rep=%i, case=%i, chain=%i\" % (depth, dropout_level, rep, case, chain))\n",
    "                        finished = False\n",
    "        if finished:\n",
    "            print(\"Depth=%s, Dropout level=%s completed running.\" % (depth, dropout_level))\n"
   ]
  },
  {
   "cell_type": "code",
   "execution_count": 22,
   "metadata": {},
   "outputs": [],
   "source": [
    "depths = [\"2\", \"5\"]\n",
    "dropout_levels = [\"90\", \"95\", \"98\"]\n",
    "for depth in depths:\n",
    "    for dropout_level in dropout_levels:\n",
    "        output_path = \"/Users/seonghwanjun/ScRNACloneEvaluation/data/simul/depth\" + depth + \"/cn/dropout\" + dropout_level + \"/\"\n",
    "        data_path = \"/Users/seonghwanjun/data/simul/10X/depth\" + depth + \"/cn/dropout\" + dropout_level + \"/\"\n",
    "        df0 = ProcessCase(data_path, 0, output_path)\n",
    "        df1 = ProcessCase(data_path, 1, output_path)\n",
    "        df2 = ProcessCase(data_path, 2, output_path)\n",
    "        df3 = ProcessCase(data_path, 3, output_path)\n",
    "\n"
   ]
  },
  {
   "cell_type": "code",
   "execution_count": null,
   "metadata": {},
   "outputs": [],
   "source": []
  }
 ],
 "metadata": {
  "kernelspec": {
   "display_name": "Python 3",
   "language": "python",
   "name": "python3"
  },
  "language_info": {
   "codemirror_mode": {
    "name": "ipython",
    "version": 3
   },
   "file_extension": ".py",
   "mimetype": "text/x-python",
   "name": "python",
   "nbconvert_exporter": "python",
   "pygments_lexer": "ipython3",
   "version": "3.8.3"
  }
 },
 "nbformat": 4,
 "nbformat_minor": 4
}
