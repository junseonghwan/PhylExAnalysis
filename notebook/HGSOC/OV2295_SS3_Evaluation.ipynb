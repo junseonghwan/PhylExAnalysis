{
 "cells": [
  {
   "cell_type": "code",
   "execution_count": 1,
   "metadata": {},
   "outputs": [
    {
     "data": {
      "text/plain": [
       "'0.23.1'"
      ]
     },
     "execution_count": 1,
     "metadata": {},
     "output_type": "execute_result"
    }
   ],
   "source": [
    "# Run ExtractPhyloWGSResults.py and Rscripts/ProcessBSCITEResults.R.\n",
    "\n",
    "from sklearn.metrics.cluster import adjusted_rand_score\n",
    "from sklearn.metrics.cluster import adjusted_mutual_info_score\n",
    "from sklearn.metrics.cluster import v_measure_score\n",
    "\n",
    "import pandas as pd\n",
    "import numpy as np\n",
    "import os\n",
    "\n",
    "#data_path = \"/Users/seonghwanjun/data/cell-line/HGSOC_SS3/\"\n",
    "data_path = \"/Users/seonghwanjun/PhylExAnalysis/data/HGSOC_SS3/\"\n",
    "\n",
    "import sklearn\n",
    "sklearn.__version__"
   ]
  },
  {
   "cell_type": "code",
   "execution_count": 2,
   "metadata": {},
   "outputs": [],
   "source": [
    "#gt = pd.read_csv(\"/Users/seonghwanjun/data/cell-line/bulk/OV2295/genotype/gt.txt\", header=0, sep=\" \")\n",
    "gt = pd.read_csv(\"../../data/HGSOC_SS3/gt.txt\", header=0, sep=\" \")\n",
    "valid_clone_names = [\"A_B_C_D_E_F_G_H_I\", \"A_B_C_D\", \"A_B\", \"C_D\", \"A\", \"B\", \"C\", \"D\", \"E_F_G_H_I\", \"E_F\", \"E\", \"F\"]\n",
    "\n",
    "# Evaluate the ancestral metric.\n",
    "# Get the true ancestral metric: not many SNVs, just do a plain double for loops. \n",
    "snv_count = gt.shape[0]\n",
    "A = np.zeros(shape = (snv_count, snv_count))\n",
    "for i in range(snv_count):\n",
    "    clone_i = set(gt.iloc[i][\"CloneName\"].split(\"_\"))\n",
    "    for j in range(snv_count):\n",
    "        clone_j = set(gt.iloc[j][\"CloneName\"].split(\"_\"))\n",
    "        if clone_i != clone_j and clone_j.issubset(clone_i):\n",
    "            A[i,j] = 1\n",
    "\n",
    "idx = np.array(np.where(gt[\"CloneName\"].isin(valid_clone_names)))[0]\n",
    "valid_idx = np.ix_(idx, idx)\n",
    "A0 = A[valid_idx]"
   ]
  },
  {
   "cell_type": "code",
   "execution_count": null,
   "metadata": {},
   "outputs": [],
   "source": []
  },
  {
   "cell_type": "code",
   "execution_count": 28,
   "metadata": {},
   "outputs": [
    {
     "name": "stdout",
     "output_type": "stream",
     "text": [
      "[0.24742038 0.29172581 0.1922902  0.19820416]\n",
      "[0.05455369 0.05858822 0.05845756 0.02063189]\n"
     ]
    }
   ],
   "source": [
    "# TSSB.\n",
    "metrics = np.zeros([rep_count, 4])\n",
    "for rep in range(rep_count):\n",
    "    #rep_path = \"/Users/seonghwanjun/data/cell-line/bulk/OV2295/genotype/bulk_only/rep\" + str(rep)\n",
    "    rep_path = os.path.join(data_path, \"tssb_2_05_05\", \"tssb\", \"chain\" + str(rep))\n",
    "    predicted = pd.read_csv(rep_path + \"/joint/tree0/cluster_labels.tsv\", header=None, sep=\"\\t\", names=[\"ID\", \"CloneName\"])\n",
    "    tbl_join = predicted.join(gt, lsuffix='_caller', rsuffix='_other')\n",
    "    ret = tbl_join[tbl_join[\"CloneName_other\"].isnull() == False]\n",
    "    ret_valid = tbl_join[tbl_join[\"CloneName_other\"].isin(valid_clone_names)]\n",
    "\n",
    "    ancestral_matrix = pd.read_csv(rep_path + \"/joint/tree0/ancestral_matrix.csv\", header=None)\n",
    "    ancestral_matrix = np.asarray(ancestral_matrix)\n",
    "    ancestral_matrix_0 = ancestral_matrix[valid_idx]\n",
    "    metrics[rep,0] = v_measure_score(ret_valid[\"CloneName_other\"], ret_valid[\"CloneName_caller\"])\n",
    "    metrics[rep,1] = adjusted_rand_score(ret_valid[\"CloneName_other\"], ret_valid[\"CloneName_caller\"])\n",
    "    metrics[rep,2] = adjusted_mutual_info_score(ret_valid[\"CloneName_other\"], ret_valid[\"CloneName_caller\"])\n",
    "    metrics[rep,3] = np.mean(np.abs(ancestral_matrix_0 - A0))\n",
    "    \n",
    "# V-measure, adjusted rand score, adjusted mutual info, ancestral metric.\n",
    "print(metrics.mean(0))\n",
    "print(metrics.std(0))\n"
   ]
  },
  {
   "cell_type": "code",
   "execution_count": 30,
   "metadata": {},
   "outputs": [
    {
     "data": {
      "text/html": [
       "<div>\n",
       "<style scoped>\n",
       "    .dataframe tbody tr th:only-of-type {\n",
       "        vertical-align: middle;\n",
       "    }\n",
       "\n",
       "    .dataframe tbody tr th {\n",
       "        vertical-align: top;\n",
       "    }\n",
       "\n",
       "    .dataframe thead th {\n",
       "        text-align: right;\n",
       "    }\n",
       "</style>\n",
       "<table border=\"1\" class=\"dataframe\">\n",
       "  <thead>\n",
       "    <tr style=\"text-align: right;\">\n",
       "      <th></th>\n",
       "      <th>Vmeasure</th>\n",
       "      <th>AdjRandScore</th>\n",
       "      <th>AdjMutualInfo</th>\n",
       "      <th>AncReconErr</th>\n",
       "      <th>Method</th>\n",
       "    </tr>\n",
       "  </thead>\n",
       "  <tbody>\n",
       "    <tr>\n",
       "      <th>0</th>\n",
       "      <td>0.123168</td>\n",
       "      <td>0.172215</td>\n",
       "      <td>0.058058</td>\n",
       "      <td>0.247637</td>\n",
       "      <td>TSSB</td>\n",
       "    </tr>\n",
       "    <tr>\n",
       "      <th>1</th>\n",
       "      <td>0.251525</td>\n",
       "      <td>0.284054</td>\n",
       "      <td>0.197022</td>\n",
       "      <td>0.195652</td>\n",
       "      <td>TSSB</td>\n",
       "    </tr>\n",
       "    <tr>\n",
       "      <th>2</th>\n",
       "      <td>0.272070</td>\n",
       "      <td>0.314759</td>\n",
       "      <td>0.218740</td>\n",
       "      <td>0.186673</td>\n",
       "      <td>TSSB</td>\n",
       "    </tr>\n",
       "    <tr>\n",
       "      <th>3</th>\n",
       "      <td>0.338829</td>\n",
       "      <td>0.395765</td>\n",
       "      <td>0.289923</td>\n",
       "      <td>0.169660</td>\n",
       "      <td>TSSB</td>\n",
       "    </tr>\n",
       "    <tr>\n",
       "      <th>4</th>\n",
       "      <td>0.355595</td>\n",
       "      <td>0.424069</td>\n",
       "      <td>0.307744</td>\n",
       "      <td>0.151229</td>\n",
       "      <td>TSSB</td>\n",
       "    </tr>\n",
       "    <tr>\n",
       "      <th>5</th>\n",
       "      <td>0.252659</td>\n",
       "      <td>0.307073</td>\n",
       "      <td>0.196813</td>\n",
       "      <td>0.191871</td>\n",
       "      <td>TSSB</td>\n",
       "    </tr>\n",
       "    <tr>\n",
       "      <th>6</th>\n",
       "      <td>0.251525</td>\n",
       "      <td>0.284054</td>\n",
       "      <td>0.197022</td>\n",
       "      <td>0.195652</td>\n",
       "      <td>TSSB</td>\n",
       "    </tr>\n",
       "    <tr>\n",
       "      <th>7</th>\n",
       "      <td>0.222078</td>\n",
       "      <td>0.296890</td>\n",
       "      <td>0.164536</td>\n",
       "      <td>0.198015</td>\n",
       "      <td>TSSB</td>\n",
       "    </tr>\n",
       "    <tr>\n",
       "      <th>8</th>\n",
       "      <td>0.205211</td>\n",
       "      <td>0.220939</td>\n",
       "      <td>0.148273</td>\n",
       "      <td>0.220227</td>\n",
       "      <td>TSSB</td>\n",
       "    </tr>\n",
       "    <tr>\n",
       "      <th>9</th>\n",
       "      <td>0.278078</td>\n",
       "      <td>0.318328</td>\n",
       "      <td>0.225189</td>\n",
       "      <td>0.190454</td>\n",
       "      <td>TSSB</td>\n",
       "    </tr>\n",
       "    <tr>\n",
       "      <th>10</th>\n",
       "      <td>0.257622</td>\n",
       "      <td>0.287572</td>\n",
       "      <td>0.203563</td>\n",
       "      <td>0.199433</td>\n",
       "      <td>TSSB</td>\n",
       "    </tr>\n",
       "    <tr>\n",
       "      <th>11</th>\n",
       "      <td>0.251525</td>\n",
       "      <td>0.284054</td>\n",
       "      <td>0.197022</td>\n",
       "      <td>0.195652</td>\n",
       "      <td>TSSB</td>\n",
       "    </tr>\n",
       "    <tr>\n",
       "      <th>12</th>\n",
       "      <td>0.205211</td>\n",
       "      <td>0.220939</td>\n",
       "      <td>0.148273</td>\n",
       "      <td>0.220227</td>\n",
       "      <td>TSSB</td>\n",
       "    </tr>\n",
       "    <tr>\n",
       "      <th>13</th>\n",
       "      <td>0.179222</td>\n",
       "      <td>0.236241</td>\n",
       "      <td>0.119090</td>\n",
       "      <td>0.219754</td>\n",
       "      <td>TSSB</td>\n",
       "    </tr>\n",
       "    <tr>\n",
       "      <th>14</th>\n",
       "      <td>0.202706</td>\n",
       "      <td>0.267554</td>\n",
       "      <td>0.143993</td>\n",
       "      <td>0.211720</td>\n",
       "      <td>TSSB</td>\n",
       "    </tr>\n",
       "    <tr>\n",
       "      <th>15</th>\n",
       "      <td>0.305014</td>\n",
       "      <td>0.354363</td>\n",
       "      <td>0.253836</td>\n",
       "      <td>0.180529</td>\n",
       "      <td>TSSB</td>\n",
       "    </tr>\n",
       "    <tr>\n",
       "      <th>16</th>\n",
       "      <td>0.272619</td>\n",
       "      <td>0.298126</td>\n",
       "      <td>0.219652</td>\n",
       "      <td>0.192817</td>\n",
       "      <td>TSSB</td>\n",
       "    </tr>\n",
       "    <tr>\n",
       "      <th>17</th>\n",
       "      <td>0.299083</td>\n",
       "      <td>0.350746</td>\n",
       "      <td>0.247467</td>\n",
       "      <td>0.176749</td>\n",
       "      <td>TSSB</td>\n",
       "    </tr>\n",
       "    <tr>\n",
       "      <th>18</th>\n",
       "      <td>0.178001</td>\n",
       "      <td>0.236241</td>\n",
       "      <td>0.117780</td>\n",
       "      <td>0.216919</td>\n",
       "      <td>TSSB</td>\n",
       "    </tr>\n",
       "    <tr>\n",
       "      <th>19</th>\n",
       "      <td>0.246666</td>\n",
       "      <td>0.280535</td>\n",
       "      <td>0.191809</td>\n",
       "      <td>0.203214</td>\n",
       "      <td>TSSB</td>\n",
       "    </tr>\n",
       "  </tbody>\n",
       "</table>\n",
       "</div>"
      ],
      "text/plain": [
       "    Vmeasure  AdjRandScore  AdjMutualInfo  AncReconErr Method\n",
       "0   0.123168      0.172215       0.058058     0.247637   TSSB\n",
       "1   0.251525      0.284054       0.197022     0.195652   TSSB\n",
       "2   0.272070      0.314759       0.218740     0.186673   TSSB\n",
       "3   0.338829      0.395765       0.289923     0.169660   TSSB\n",
       "4   0.355595      0.424069       0.307744     0.151229   TSSB\n",
       "5   0.252659      0.307073       0.196813     0.191871   TSSB\n",
       "6   0.251525      0.284054       0.197022     0.195652   TSSB\n",
       "7   0.222078      0.296890       0.164536     0.198015   TSSB\n",
       "8   0.205211      0.220939       0.148273     0.220227   TSSB\n",
       "9   0.278078      0.318328       0.225189     0.190454   TSSB\n",
       "10  0.257622      0.287572       0.203563     0.199433   TSSB\n",
       "11  0.251525      0.284054       0.197022     0.195652   TSSB\n",
       "12  0.205211      0.220939       0.148273     0.220227   TSSB\n",
       "13  0.179222      0.236241       0.119090     0.219754   TSSB\n",
       "14  0.202706      0.267554       0.143993     0.211720   TSSB\n",
       "15  0.305014      0.354363       0.253836     0.180529   TSSB\n",
       "16  0.272619      0.298126       0.219652     0.192817   TSSB\n",
       "17  0.299083      0.350746       0.247467     0.176749   TSSB\n",
       "18  0.178001      0.236241       0.117780     0.216919   TSSB\n",
       "19  0.246666      0.280535       0.191809     0.203214   TSSB"
      ]
     },
     "execution_count": 30,
     "metadata": {},
     "output_type": "execute_result"
    }
   ],
   "source": [
    "results_tssb = pd.DataFrame(metrics, columns = [\"Vmeasure\", \"AdjRandScore\", \"AdjMutualInfo\", \"AncReconErr\"])\n",
    "results_tssb[\"Method\"] = \"TSSB\"\n",
    "results_tssb"
   ]
  },
  {
   "cell_type": "code",
   "execution_count": 25,
   "metadata": {},
   "outputs": [
    {
     "name": "stdout",
     "output_type": "stream",
     "text": [
      "0.4829870174461928\n",
      "0.04580008626266983\n",
      "0.0744216195098232\n"
     ]
    }
   ],
   "source": [
    "# ddClone\n",
    "pred_path = os.path.join(data_path, \"ddClone\")\n",
    "predicted = pd.read_table(os.path.join(pred_path, \"results.txt\"), sep=\" \")\n",
    "predicted.columns=[\"ID\", \"phi\", \"CloneName\"]\n",
    "\n",
    "tbl_join = predicted.join(gt, lsuffix='_caller', rsuffix='_other')\n",
    "ret = tbl_join[tbl_join[\"CloneName_other\"].isnull() == False]\n",
    "ret_valid = tbl_join[tbl_join[\"CloneName_other\"].isin(valid_clone_names)]\n",
    "\n",
    "print(v_measure_score(ret_valid[\"CloneName_other\"], ret_valid[\"CloneName_caller\"]))\n",
    "print(adjusted_rand_score(ret_valid[\"CloneName_other\"], ret_valid[\"CloneName_caller\"]))\n",
    "print(adjusted_mutual_info_score(ret_valid[\"CloneName_other\"], ret_valid[\"CloneName_caller\"]))\n"
   ]
  },
  {
   "cell_type": "code",
   "execution_count": null,
   "metadata": {},
   "outputs": [],
   "source": []
  },
  {
   "cell_type": "code",
   "execution_count": 7,
   "metadata": {},
   "outputs": [
    {
     "name": "stdout",
     "output_type": "stream",
     "text": [
      "0.4301579869830684\n",
      "0.08168476438575224\n",
      "0.20509209020698457\n",
      "0.2556710775047259\n"
     ]
    }
   ],
   "source": [
    "# B-SCITE:\n",
    "pred_path = os.path.join(data_path, \"B-SCITE\")\n",
    "clustering_prediction_file = os.path.join(pred_path, \"results.txt\")\n",
    "predicted = pd.read_table(clustering_prediction_file, sep=\" \")\n",
    "\n",
    "tbl_join = predicted.join(gt, lsuffix='_caller', rsuffix='_other')\n",
    "ret = tbl_join[tbl_join[\"CloneName_other\"].isnull() == False]\n",
    "ret_valid = tbl_join[tbl_join[\"CloneName_other\"].isin(valid_clone_names)]\n",
    "\n",
    "# Read the ancestral matrix line-by-line.\n",
    "with open(os.path.join(pred_path, \"bscite.matrices\"), \"r\") as f:\n",
    "    line = f.readline()\n",
    "    mutation_count = int(line.split()[1])\n",
    "    f.readline()\n",
    "    A = []\n",
    "    for _ in range(mutation_count):\n",
    "        line = f.readline()\n",
    "        A.append(line.split())\n",
    "\n",
    "A = np.asarray(A, dtype=int)\n",
    "A = A[valid_idx]\n",
    "\n",
    "print(v_measure_score(ret_valid[\"CloneName_other\"], ret_valid[\"CloneName_caller\"]))\n",
    "print(adjusted_rand_score(ret_valid[\"CloneName_other\"], ret_valid[\"CloneName_caller\"]))\n",
    "print(adjusted_mutual_info_score(ret_valid[\"CloneName_other\"], ret_valid[\"CloneName_caller\"]))\n",
    "print(np.mean(np.abs(A - A0)))\n"
   ]
  },
  {
   "cell_type": "code",
   "execution_count": 8,
   "metadata": {},
   "outputs": [
    {
     "name": "stdout",
     "output_type": "stream",
     "text": [
      "0.447844219827592\n",
      "0.2823002055523911\n",
      "0.26238513702386707\n",
      "0.19092627599243855\n"
     ]
    }
   ],
   "source": [
    "# Compute the metrics on Canopy.\n",
    "clustering_file = os.path.join(data_path, \"canopy\", \"predicted.csv\")\n",
    "ancestral_matrix_file = os.path.join(data_path, \"canopy\", \"ancestral_matrix.csv\")\n",
    "\n",
    "predicted = pd.read_csv(clustering_file)\n",
    "predicted.columns=[\"ID\", \"CloneName\"]\n",
    "\n",
    "tbl_join = predicted.join(gt, lsuffix='_caller', rsuffix='_other')\n",
    "ret = tbl_join[tbl_join[\"CloneName_other\"].isnull() == False]\n",
    "ret_valid = tbl_join[tbl_join[\"CloneName_other\"].isin(valid_clone_names)]\n",
    "\n",
    "ancestral_matrix = np.asarray(pd.read_table(ancestral_matrix_file, header=None, sep=\" \"))\n",
    "ancestral_matrix = ancestral_matrix[valid_idx]\n",
    "\n",
    "print(v_measure_score(ret_valid[\"CloneName_other\"], ret_valid[\"CloneName_caller\"]))\n",
    "print(adjusted_rand_score(ret_valid[\"CloneName_other\"], ret_valid[\"CloneName_caller\"]))\n",
    "print(adjusted_mutual_info_score(ret_valid[\"CloneName_other\"], ret_valid[\"CloneName_caller\"]))\n",
    "print(np.mean(np.abs(ancestral_matrix - A0)))\n"
   ]
  },
  {
   "cell_type": "code",
   "execution_count": 9,
   "metadata": {},
   "outputs": [
    {
     "name": "stdout",
     "output_type": "stream",
     "text": [
      "2.60577903472376e-16\n",
      "0.0\n",
      "2.6057790347237605e-16\n",
      "0.2684310018903592\n"
     ]
    }
   ],
   "source": [
    "# PhyloWGS:\n",
    "clustering_file = os.path.join(data_path, \"phylowgs\", \"clustering.txt\")\n",
    "ancestral_matrix_file = os.path.join(data_path, \"phylowgs\", \"ancestral_matrix.txt\")\n",
    "\n",
    "predicted = pd.read_table(clustering_file, header=None, names=[\"ID\", \"CloneName\"], sep=\" \")\n",
    "ancestral_matrix = np.asarray(pd.read_table(ancestral_matrix_file, header=None, sep=\" \"))\n",
    "\n",
    "tbl_join = predicted.join(gt, lsuffix='_caller', rsuffix='_other')\n",
    "ret = tbl_join[tbl_join[\"CloneName_other\"].isnull() == False]\n",
    "ret_valid = tbl_join[tbl_join[\"CloneName_other\"].isin(valid_clone_names)]\n",
    "\n",
    "print(v_measure_score(ret_valid[\"CloneName_other\"], ret_valid[\"CloneName_caller\"]))\n",
    "print(adjusted_rand_score(ret_valid[\"CloneName_other\"], ret_valid[\"CloneName_caller\"]))\n",
    "print(adjusted_mutual_info_score(ret_valid[\"CloneName_other\"], ret_valid[\"CloneName_caller\"]))\n",
    "print(np.mean(np.abs(A0 - ancestral_matrix[valid_idx])))\n"
   ]
  },
  {
   "cell_type": "code",
   "execution_count": 71,
   "metadata": {},
   "outputs": [
    {
     "name": "stdout",
     "output_type": "stream",
     "text": [
      "[0.8679923  0.88393576 0.83608845 0.03936673]\n",
      "[0.01875681 0.02273957 0.02529606 0.00985336]\n"
     ]
    }
   ],
   "source": [
    "# Our method.\n",
    "rep_count = 20\n",
    "metrics = np.zeros([rep_count, 4])\n",
    "for rep in range(rep_count):\n",
    "    rep_path = os.path.join(data_path, \"phylex_5_1_02\", \"phylex\", \"chain\" + str(rep))\n",
    "    predicted = pd.read_csv(rep_path + \"/joint/tree0/cluster_labels.tsv\", header=None, sep=\"\\t\", names=[\"ID\", \"CloneName\"])\n",
    "    tbl_join = predicted.join(gt, lsuffix='_caller', rsuffix='_other')\n",
    "    ret = tbl_join[tbl_join[\"CloneName_other\"].isnull() == False]\n",
    "    ret_valid = tbl_join[tbl_join[\"CloneName_other\"].isin(valid_clone_names)]\n",
    "\n",
    "    ancestral_matrix = pd.read_csv(rep_path + \"/joint/tree0/ancestral_matrix.csv\", header=None)\n",
    "    ancestral_matrix = np.asarray(ancestral_matrix)\n",
    "    ancestral_matrix_0 = ancestral_matrix[valid_idx]\n",
    "    metrics[rep,0] = v_measure_score(ret_valid[\"CloneName_other\"], ret_valid[\"CloneName_caller\"])\n",
    "    metrics[rep,1] = adjusted_rand_score(ret_valid[\"CloneName_other\"], ret_valid[\"CloneName_caller\"])\n",
    "    metrics[rep,2] = adjusted_mutual_info_score(ret_valid[\"CloneName_other\"], ret_valid[\"CloneName_caller\"])\n",
    "    metrics[rep,3] = np.mean(np.abs(ancestral_matrix_0 - A0))\n",
    "    \n",
    "# V-measure, adjusted rand score, adjusted mutual info, ancestral metric.\n",
    "print(metrics.mean(0))\n",
    "print(metrics.std(0))"
   ]
  },
  {
   "cell_type": "code",
   "execution_count": 72,
   "metadata": {},
   "outputs": [
    {
     "data": {
      "text/plain": [
       "(20, 7)"
      ]
     },
     "execution_count": 72,
     "metadata": {},
     "output_type": "execute_result"
    }
   ],
   "source": [
    "supp_tbl3 = pd.DataFrame(metrics, columns = [\"Vmeasure\", \"AdjRandScore\", \"AdjMutualInfo\", \"AncReconErr\"])\n",
    "supp_tbl3[\"lambda0 max\"] = 5\n",
    "supp_tbl3[\"lambda max\"] = 1\n",
    "supp_tbl3[\"gamma max\"] = 0.2\n",
    "supp_tbl3.shape"
   ]
  },
  {
   "cell_type": "code",
   "execution_count": 73,
   "metadata": {},
   "outputs": [
    {
     "name": "stdout",
     "output_type": "stream",
     "text": [
      "[0.87029974 0.88764812 0.83896881 0.03792533]\n",
      "[0.0131808  0.01635229 0.01752512 0.00767558]\n"
     ]
    }
   ],
   "source": [
    "# Our method.\n",
    "rep_count = 20\n",
    "metrics = np.zeros([rep_count, 4])\n",
    "for rep in range(rep_count):\n",
    "    rep_path = os.path.join(data_path, \"phylex_5_1_1\", \"phylex\", \"chain\" + str(rep))\n",
    "    predicted = pd.read_csv(rep_path + \"/joint/tree0/cluster_labels.tsv\", header=None, sep=\"\\t\", names=[\"ID\", \"CloneName\"])\n",
    "    tbl_join = predicted.join(gt, lsuffix='_caller', rsuffix='_other')\n",
    "    ret = tbl_join[tbl_join[\"CloneName_other\"].isnull() == False]\n",
    "    ret_valid = tbl_join[tbl_join[\"CloneName_other\"].isin(valid_clone_names)]\n",
    "\n",
    "    ancestral_matrix = pd.read_csv(rep_path + \"/joint/tree0/ancestral_matrix.csv\", header=None)\n",
    "    ancestral_matrix = np.asarray(ancestral_matrix)\n",
    "    ancestral_matrix_0 = ancestral_matrix[valid_idx]\n",
    "    metrics[rep,0] = v_measure_score(ret_valid[\"CloneName_other\"], ret_valid[\"CloneName_caller\"])\n",
    "    metrics[rep,1] = adjusted_rand_score(ret_valid[\"CloneName_other\"], ret_valid[\"CloneName_caller\"])\n",
    "    metrics[rep,2] = adjusted_mutual_info_score(ret_valid[\"CloneName_other\"], ret_valid[\"CloneName_caller\"])\n",
    "    metrics[rep,3] = np.mean(np.abs(ancestral_matrix_0 - A0))\n",
    "    \n",
    "# V-measure, adjusted rand score, adjusted mutual info, ancestral metric.\n",
    "print(metrics.mean(0))\n",
    "print(metrics.std(0))"
   ]
  },
  {
   "cell_type": "code",
   "execution_count": 74,
   "metadata": {},
   "outputs": [
    {
     "data": {
      "text/plain": [
       "(40, 7)"
      ]
     },
     "execution_count": 74,
     "metadata": {},
     "output_type": "execute_result"
    }
   ],
   "source": [
    "results_phylex = pd.DataFrame(metrics, columns = [\"Vmeasure\", \"AdjRandScore\", \"AdjMutualInfo\", \"AncReconErr\"])\n",
    "results_phylex[\"Method\"] = \"PhylEx\"\n",
    "results_phylex\n",
    "\n",
    "temp = pd.DataFrame(metrics, columns = [\"Vmeasure\", \"AdjRandScore\", \"AdjMutualInfo\", \"AncReconErr\"])\n",
    "temp[\"lambda0 max\"] = 5\n",
    "temp[\"lambda max\"] = 1\n",
    "temp[\"gamma max\"] = 1\n",
    "supp_tbl3 = supp_tbl3.append(temp)\n",
    "supp_tbl3.shape"
   ]
  },
  {
   "cell_type": "code",
   "execution_count": 75,
   "metadata": {},
   "outputs": [
    {
     "name": "stdout",
     "output_type": "stream",
     "text": [
      "[0.86341447 0.882625   0.82959099 0.03775992]\n",
      "[0.02169685 0.018047   0.0275778  0.00460842]\n"
     ]
    }
   ],
   "source": [
    "# Our method.\n",
    "rep_count = 20\n",
    "metrics = np.zeros([rep_count, 4])\n",
    "for rep in range(rep_count):\n",
    "    rep_path = os.path.join(data_path, \"phylex_10_1_1\", \"phylex\", \"chain\" + str(rep))\n",
    "    predicted = pd.read_csv(rep_path + \"/joint/tree0/cluster_labels.tsv\", header=None, sep=\"\\t\", names=[\"ID\", \"CloneName\"])\n",
    "    tbl_join = predicted.join(gt, lsuffix='_caller', rsuffix='_other')\n",
    "    ret = tbl_join[tbl_join[\"CloneName_other\"].isnull() == False]\n",
    "    ret_valid = tbl_join[tbl_join[\"CloneName_other\"].isin(valid_clone_names)]\n",
    "\n",
    "    ancestral_matrix = pd.read_csv(rep_path + \"/joint/tree0/ancestral_matrix.csv\", header=None)\n",
    "    ancestral_matrix = np.asarray(ancestral_matrix)\n",
    "    ancestral_matrix_0 = ancestral_matrix[valid_idx]\n",
    "    metrics[rep,0] = v_measure_score(ret_valid[\"CloneName_other\"], ret_valid[\"CloneName_caller\"])\n",
    "    metrics[rep,1] = adjusted_rand_score(ret_valid[\"CloneName_other\"], ret_valid[\"CloneName_caller\"])\n",
    "    metrics[rep,2] = adjusted_mutual_info_score(ret_valid[\"CloneName_other\"], ret_valid[\"CloneName_caller\"])\n",
    "    metrics[rep,3] = np.mean(np.abs(ancestral_matrix_0 - A0))\n",
    "    \n",
    "# V-measure, adjusted rand score, adjusted mutual info, ancestral metric.\n",
    "print(metrics.mean(0))\n",
    "print(metrics.std(0))"
   ]
  },
  {
   "cell_type": "code",
   "execution_count": 76,
   "metadata": {},
   "outputs": [
    {
     "data": {
      "text/plain": [
       "(60, 7)"
      ]
     },
     "execution_count": 76,
     "metadata": {},
     "output_type": "execute_result"
    }
   ],
   "source": [
    "temp = pd.DataFrame(metrics, columns = [\"Vmeasure\", \"AdjRandScore\", \"AdjMutualInfo\", \"AncReconErr\"])\n",
    "temp[\"lambda0 max\"] = 10\n",
    "temp[\"lambda max\"] = 1\n",
    "temp[\"gamma max\"] = 1\n",
    "supp_tbl3 = supp_tbl3.append(temp)\n",
    "supp_tbl3.shape"
   ]
  },
  {
   "cell_type": "code",
   "execution_count": 77,
   "metadata": {},
   "outputs": [
    {
     "name": "stdout",
     "output_type": "stream",
     "text": [
      "[0.85877776 0.85090353 0.82749746 0.04978733]\n",
      "[0.059001   0.10431945 0.07183817 0.03483031]\n"
     ]
    }
   ],
   "source": [
    "# Our method.\n",
    "rep_count = 20\n",
    "metrics = np.zeros([rep_count, 4])\n",
    "for rep in range(rep_count):\n",
    "    rep_path = os.path.join(data_path, \"phylex_1_02_05\", \"phylex\", \"chain\" + str(rep))\n",
    "    predicted = pd.read_csv(rep_path + \"/joint/tree0/cluster_labels.tsv\", header=None, sep=\"\\t\", names=[\"ID\", \"CloneName\"])\n",
    "    tbl_join = predicted.join(gt, lsuffix='_caller', rsuffix='_other')\n",
    "    ret = tbl_join[tbl_join[\"CloneName_other\"].isnull() == False]\n",
    "    ret_valid = tbl_join[tbl_join[\"CloneName_other\"].isin(valid_clone_names)]\n",
    "\n",
    "    ancestral_matrix = pd.read_csv(rep_path + \"/joint/tree0/ancestral_matrix.csv\", header=None)\n",
    "    ancestral_matrix = np.asarray(ancestral_matrix)\n",
    "    ancestral_matrix_0 = ancestral_matrix[valid_idx]\n",
    "    metrics[rep,0] = v_measure_score(ret_valid[\"CloneName_other\"], ret_valid[\"CloneName_caller\"])\n",
    "    metrics[rep,1] = adjusted_rand_score(ret_valid[\"CloneName_other\"], ret_valid[\"CloneName_caller\"])\n",
    "    metrics[rep,2] = adjusted_mutual_info_score(ret_valid[\"CloneName_other\"], ret_valid[\"CloneName_caller\"])\n",
    "    metrics[rep,3] = np.mean(np.abs(ancestral_matrix_0 - A0))\n",
    "    \n",
    "# V-measure, adjusted rand score, adjusted mutual info, ancestral metric.\n",
    "print(metrics.mean(0))\n",
    "print(metrics.std(0))"
   ]
  },
  {
   "cell_type": "code",
   "execution_count": 78,
   "metadata": {},
   "outputs": [
    {
     "data": {
      "text/plain": [
       "(80, 7)"
      ]
     },
     "execution_count": 78,
     "metadata": {},
     "output_type": "execute_result"
    }
   ],
   "source": [
    "temp = pd.DataFrame(metrics, columns = [\"Vmeasure\", \"AdjRandScore\", \"AdjMutualInfo\", \"AncReconErr\"])\n",
    "temp[\"lambda0 max\"] = 1\n",
    "temp[\"lambda max\"] = 0.2\n",
    "temp[\"gamma max\"] = 0.5\n",
    "supp_tbl3 = supp_tbl3.append(temp)\n",
    "supp_tbl3.shape"
   ]
  },
  {
   "cell_type": "code",
   "execution_count": 37,
   "metadata": {},
   "outputs": [],
   "source": [
    "# Source data for Table 1.\n",
    "tbl1 = results_phylex.append(results_tssb)\n",
    "tbl1.to_csv(\"../../data/NatComm/Table1.csv\", index=False)"
   ]
  },
  {
   "cell_type": "code",
   "execution_count": null,
   "metadata": {},
   "outputs": [],
   "source": []
  },
  {
   "cell_type": "code",
   "execution_count": 79,
   "metadata": {},
   "outputs": [],
   "source": [
    "# Source data for Supplementary Table 3. \n",
    "supp_tbl3.to_csv(\"../../data/NatComm/SupplementaryTable3.csv\", index=False)"
   ]
  },
  {
   "cell_type": "code",
   "execution_count": null,
   "metadata": {},
   "outputs": [],
   "source": []
  }
 ],
 "metadata": {
  "kernelspec": {
   "display_name": "Python 3",
   "language": "python",
   "name": "python3"
  },
  "language_info": {
   "codemirror_mode": {
    "name": "ipython",
    "version": 3
   },
   "file_extension": ".py",
   "mimetype": "text/x-python",
   "name": "python",
   "nbconvert_exporter": "python",
   "pygments_lexer": "ipython3",
   "version": "3.8.3"
  }
 },
 "nbformat": 4,
 "nbformat_minor": 4
}
